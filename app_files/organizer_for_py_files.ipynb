{
 "cells": [
  {
   "cell_type": "code",
   "execution_count": null,
   "id": "b6848cca-5ff9-469c-b2fd-b5cf687b334d",
   "metadata": {},
   "outputs": [],
   "source": [
    "app_files/\n",
    "│\n",
    "├── app.py                # Main script to run the Streamlit app\n",
    "├── data_loader.py        # Handles loading data\n",
    "├── pages/                # Folder containing different pages of the app\n",
    "│   ├── opener.py          # Page that confirms data has been loaded to present Project and Contains Info on Data Gathering Links\n",
    "│   ├── introduction.py          # Project introduction page\n",
    "│   ├── ml_results.py        # Results of Machine Learning implementation page\n",
    "└── utils_                # Folder for utility functions\n",
    "    ├── display.py        # Helper functions for displaying data"
   ]
  },
  {
   "cell_type": "code",
   "execution_count": null,
   "id": "8d351522-cb53-4f59-9426-9df25b39dd02",
   "metadata": {},
   "outputs": [],
   "source": [
    "# data_loader.py"
   ]
  },
  {
   "cell_type": "code",
   "execution_count": null,
   "id": "263ab4eb-2afa-42f4-be30-e30e86207da9",
   "metadata": {},
   "outputs": [],
   "source": [
    "# app.py"
   ]
  },
  {
   "cell_type": "code",
   "execution_count": null,
   "id": "20297759-7a3d-43d5-be20-02d619ea0ca2",
   "metadata": {},
   "outputs": [],
   "source": [
    "# pages/opener.py"
   ]
  },
  {
   "cell_type": "code",
   "execution_count": null,
   "id": "a68b3119-dd60-4ad7-808a-2c4998144536",
   "metadata": {},
   "outputs": [],
   "source": [
    "# pages/introduction.py"
   ]
  },
  {
   "cell_type": "code",
   "execution_count": null,
   "id": "a9f19999-a98c-4b77-9834-43843837a5d2",
   "metadata": {},
   "outputs": [],
   "source": [
    "# pages/opener.py"
   ]
  },
  {
   "cell_type": "code",
   "execution_count": null,
   "id": "0756ed52-a862-443c-818a-59b3e20db6de",
   "metadata": {},
   "outputs": [],
   "source": [
    "# utils/display.py"
   ]
  }
 ],
 "metadata": {
  "kernelspec": {
   "display_name": "Python 3 (ipykernel)",
   "language": "python",
   "name": "python3"
  },
  "language_info": {
   "codemirror_mode": {
    "name": "ipython",
    "version": 3
   },
   "file_extension": ".py",
   "mimetype": "text/x-python",
   "name": "python",
   "nbconvert_exporter": "python",
   "pygments_lexer": "ipython3",
   "version": "3.12.4"
  }
 },
 "nbformat": 4,
 "nbformat_minor": 5
}
