{
 "cells": [
  {
   "cell_type": "code",
   "execution_count": 1,
   "id": "62971c34-33c4-41e6-9e49-51c30c381a5d",
   "metadata": {},
   "outputs": [],
   "source": [
    "import pandas as pd\n",
    "import os"
   ]
  },
  {
   "cell_type": "markdown",
   "id": "a9058267-63fe-40e5-bdcd-90c6475513c3",
   "metadata": {},
   "source": [
    "**Fill null values and drop null rows for countries chosen**"
   ]
  },
  {
   "cell_type": "code",
   "execution_count": 2,
   "id": "71582063-be53-45c0-8cf9-0e7c73957ea2",
   "metadata": {},
   "outputs": [
    {
     "data": {
      "text/html": [
       "<div>\n",
       "<style scoped>\n",
       "    .dataframe tbody tr th:only-of-type {\n",
       "        vertical-align: middle;\n",
       "    }\n",
       "\n",
       "    .dataframe tbody tr th {\n",
       "        vertical-align: top;\n",
       "    }\n",
       "\n",
       "    .dataframe thead th {\n",
       "        text-align: right;\n",
       "    }\n",
       "</style>\n",
       "<table border=\"1\" class=\"dataframe\">\n",
       "  <thead>\n",
       "    <tr style=\"text-align: right;\">\n",
       "      <th></th>\n",
       "      <th>Year</th>\n",
       "      <th>Region/Country/Area</th>\n",
       "      <th>All staff compensation as % of total expenditure in public institutions (%)</th>\n",
       "      <th>Basic access to computers by level of education: Lower secondary</th>\n",
       "      <th>Basic access to computers by level of education: Primary</th>\n",
       "      <th>Basic access to computers by level of education: Upper secondary</th>\n",
       "      <th>Capital expenditure as % of total expenditure in public institutions (%)</th>\n",
       "      <th>Current expenditure other than staff compensation as % of total expenditure in public institutions (%)</th>\n",
       "    </tr>\n",
       "  </thead>\n",
       "  <tbody>\n",
       "    <tr>\n",
       "      <th>0</th>\n",
       "      <td>2000</td>\n",
       "      <td>36</td>\n",
       "      <td>68.3</td>\n",
       "      <td>NaN</td>\n",
       "      <td>NaN</td>\n",
       "      <td>NaN</td>\n",
       "      <td>7.0</td>\n",
       "      <td>24.7</td>\n",
       "    </tr>\n",
       "    <tr>\n",
       "      <th>1</th>\n",
       "      <td>2000</td>\n",
       "      <td>804</td>\n",
       "      <td>NaN</td>\n",
       "      <td>NaN</td>\n",
       "      <td>NaN</td>\n",
       "      <td>NaN</td>\n",
       "      <td>8.3</td>\n",
       "      <td>NaN</td>\n",
       "    </tr>\n",
       "    <tr>\n",
       "      <th>2</th>\n",
       "      <td>2001</td>\n",
       "      <td>442</td>\n",
       "      <td>71.3</td>\n",
       "      <td>NaN</td>\n",
       "      <td>NaN</td>\n",
       "      <td>NaN</td>\n",
       "      <td>17.5</td>\n",
       "      <td>11.2</td>\n",
       "    </tr>\n",
       "    <tr>\n",
       "      <th>3</th>\n",
       "      <td>2002</td>\n",
       "      <td>233</td>\n",
       "      <td>56.3</td>\n",
       "      <td>NaN</td>\n",
       "      <td>NaN</td>\n",
       "      <td>NaN</td>\n",
       "      <td>15.0</td>\n",
       "      <td>28.8</td>\n",
       "    </tr>\n",
       "    <tr>\n",
       "      <th>4</th>\n",
       "      <td>2003</td>\n",
       "      <td>308</td>\n",
       "      <td>82.2</td>\n",
       "      <td>NaN</td>\n",
       "      <td>NaN</td>\n",
       "      <td>NaN</td>\n",
       "      <td>9.5</td>\n",
       "      <td>8.3</td>\n",
       "    </tr>\n",
       "  </tbody>\n",
       "</table>\n",
       "</div>"
      ],
      "text/plain": [
       "   Year  Region/Country/Area  \\\n",
       "0  2000                   36   \n",
       "1  2000                  804   \n",
       "2  2001                  442   \n",
       "3  2002                  233   \n",
       "4  2003                  308   \n",
       "\n",
       "   All staff compensation as % of total expenditure in public institutions (%)  \\\n",
       "0                                               68.3                             \n",
       "1                                                NaN                             \n",
       "2                                               71.3                             \n",
       "3                                               56.3                             \n",
       "4                                               82.2                             \n",
       "\n",
       "   Basic access to computers by level of education: Lower secondary  \\\n",
       "0                                                NaN                  \n",
       "1                                                NaN                  \n",
       "2                                                NaN                  \n",
       "3                                                NaN                  \n",
       "4                                                NaN                  \n",
       "\n",
       "   Basic access to computers by level of education: Primary  \\\n",
       "0                                                NaN          \n",
       "1                                                NaN          \n",
       "2                                                NaN          \n",
       "3                                                NaN          \n",
       "4                                                NaN          \n",
       "\n",
       "   Basic access to computers by level of education: Upper secondary  \\\n",
       "0                                                NaN                  \n",
       "1                                                NaN                  \n",
       "2                                                NaN                  \n",
       "3                                                NaN                  \n",
       "4                                                NaN                  \n",
       "\n",
       "   Capital expenditure as % of total expenditure in public institutions (%)  \\\n",
       "0                                                7.0                          \n",
       "1                                                8.3                          \n",
       "2                                               17.5                          \n",
       "3                                               15.0                          \n",
       "4                                                9.5                          \n",
       "\n",
       "   Current expenditure other than staff compensation as % of total expenditure in public institutions (%)  \n",
       "0                                               24.7                                                       \n",
       "1                                                NaN                                                       \n",
       "2                                               11.2                                                       \n",
       "3                                               28.8                                                       \n",
       "4                                                8.3                                                       "
      ]
     },
     "execution_count": 2,
     "metadata": {},
     "output_type": "execute_result"
    }
   ],
   "source": [
    "url = \"https://raw.githubusercontent.com/Cfg-data/final-project/refs/heads/master/data/merged/variables/SYB67_245_202411_grouped_pivoted.csv\"\n",
    "\n",
    "# Load the CSV file into a pandas DataFrame\n",
    "df = pd.read_csv(url)\n",
    "\n",
    "# Display the first few rows of the dataframe\n",
    "df.head()"
   ]
  },
  {
   "cell_type": "code",
   "execution_count": 3,
   "id": "6f4a4665-ad6f-4c7a-969b-7c926c0c60f6",
   "metadata": {},
   "outputs": [
    {
     "data": {
      "text/plain": [
       "(231, 8)"
      ]
     },
     "execution_count": 3,
     "metadata": {},
     "output_type": "execute_result"
    }
   ],
   "source": [
    "df.shape"
   ]
  },
  {
   "cell_type": "code",
   "execution_count": 4,
   "id": "968cc014-923e-49b4-b76c-0af91fee9e6b",
   "metadata": {},
   "outputs": [
    {
     "name": "stdout",
     "output_type": "stream",
     "text": [
      "Year                                                                                                        0\n",
      "Region/Country/Area                                                                                         0\n",
      "All staff compensation as % of total expenditure in public institutions (%)                                59\n",
      "Basic access to computers by level of education: Lower secondary                                          139\n",
      "Basic access to computers by level of education: Primary                                                  104\n",
      "Basic access to computers by level of education: Upper secondary                                          140\n",
      "Capital expenditure as % of total expenditure in public institutions (%)                                   54\n",
      "Current expenditure other than staff compensation as % of total expenditure in public institutions (%)     59\n",
      "dtype: int64\n"
     ]
    }
   ],
   "source": [
    "null_values = df.isnull().sum()\n",
    "\n",
    "print(null_values)"
   ]
  },
  {
   "cell_type": "code",
   "execution_count": 5,
   "id": "9cc55bd9-483f-4ed6-a604-44644b547193",
   "metadata": {},
   "outputs": [],
   "source": [
    "# List of columns to check for null values\n",
    "columns_to_check = [\n",
    "    'All staff compensation as % of total expenditure in public institutions (%)',\n",
    "    'Basic access to computers by level of education: Lower secondary',\n",
    "    'Basic access to computers by level of education: Primary',\n",
    "    'Basic access to computers by level of education: Upper secondary',\n",
    "    'Capital expenditure as % of total expenditure in public institutions (%)',\n",
    "    'Current expenditure other than staff compensation as % of total expenditure in public institutions (%)'\n",
    "]\n",
    "\n",
    "# Drop rows where all values in the specified columns are null\n",
    "df.dropna(subset=columns_to_check, how='all', inplace=True)\n",
    "\n",
    "# Fill remaining null values in the DataFrame with 0\n",
    "df.fillna(0, inplace=True)"
   ]
  },
  {
   "cell_type": "code",
   "execution_count": 6,
   "id": "36821043-a58d-431a-ad92-b0c5aa81a7a5",
   "metadata": {},
   "outputs": [
    {
     "data": {
      "text/plain": [
       "(231, 8)"
      ]
     },
     "execution_count": 6,
     "metadata": {},
     "output_type": "execute_result"
    }
   ],
   "source": [
    "df.shape"
   ]
  },
  {
   "cell_type": "code",
   "execution_count": 7,
   "id": "f08a5cd5-0b17-41d7-8d61-52d22332a1dc",
   "metadata": {},
   "outputs": [
    {
     "name": "stdout",
     "output_type": "stream",
     "text": [
      "Final CSV has been saved to: C:\\Users\\Cecilia\\Downloads\\ironhack\\coursework\\Final_Project\\data\\merged\\final\\SYB67_245_202411final_data.csv\n"
     ]
    }
   ],
   "source": [
    "# Define the output folder path\n",
    "output_folder = r\"C:\\Users\\Cecilia\\Downloads\\ironhack\\coursework\\Final_Project\\data\\merged\\final\"\n",
    "\n",
    "# Ensure the directory exists\n",
    "os.makedirs(output_folder, exist_ok=True)\n",
    "\n",
    "# Save the final DataFrame to a CSV file\n",
    "output_path = os.path.join(output_folder, \"SYB67_245_202411final_data.csv\")\n",
    "df.to_csv(output_path, index=False)\n",
    "\n",
    "# Print confirmation message\n",
    "print(f\"Final CSV has been saved to: {output_path}\")"
   ]
  },
  {
   "cell_type": "code",
   "execution_count": 8,
   "id": "e597420b-6ab8-4083-8f0f-07bb63311980",
   "metadata": {},
   "outputs": [
    {
     "data": {
      "text/html": [
       "<div>\n",
       "<style scoped>\n",
       "    .dataframe tbody tr th:only-of-type {\n",
       "        vertical-align: middle;\n",
       "    }\n",
       "\n",
       "    .dataframe tbody tr th {\n",
       "        vertical-align: top;\n",
       "    }\n",
       "\n",
       "    .dataframe thead th {\n",
       "        text-align: right;\n",
       "    }\n",
       "</style>\n",
       "<table border=\"1\" class=\"dataframe\">\n",
       "  <thead>\n",
       "    <tr style=\"text-align: right;\">\n",
       "      <th></th>\n",
       "      <th>Year</th>\n",
       "      <th>Region/Country/Area</th>\n",
       "      <th>Gross enrollment ratio - Lower secondary level (female)</th>\n",
       "      <th>Gross enrollment ratio - Lower secondary level (male)</th>\n",
       "      <th>Gross enrollment ratio - Primary (female)</th>\n",
       "      <th>Gross enrollment ratio - Primary (male)</th>\n",
       "      <th>Gross enrollment ratio - Upper secondary level (female)</th>\n",
       "      <th>Gross enrollment ratio - Upper secondary level (male)</th>\n",
       "      <th>Students enrolled in lower secondary education (thousands)</th>\n",
       "      <th>Students enrolled in primary education (thousands)</th>\n",
       "      <th>Students enrolled in upper secondary education (thousands)</th>\n",
       "    </tr>\n",
       "  </thead>\n",
       "  <tbody>\n",
       "    <tr>\n",
       "      <th>0</th>\n",
       "      <td>2000</td>\n",
       "      <td>492</td>\n",
       "      <td>152.8</td>\n",
       "      <td>138.4</td>\n",
       "      <td>133.5</td>\n",
       "      <td>132.9</td>\n",
       "      <td>179.9</td>\n",
       "      <td>144.4</td>\n",
       "      <td>2.0</td>\n",
       "      <td>2.0</td>\n",
       "      <td>1.0</td>\n",
       "    </tr>\n",
       "    <tr>\n",
       "      <th>1</th>\n",
       "      <td>2000</td>\n",
       "      <td>674</td>\n",
       "      <td>95.7</td>\n",
       "      <td>92.7</td>\n",
       "      <td>90.9</td>\n",
       "      <td>93.7</td>\n",
       "      <td>23.7</td>\n",
       "      <td>19.1</td>\n",
       "      <td>1.0</td>\n",
       "      <td>1.0</td>\n",
       "      <td>0.0</td>\n",
       "    </tr>\n",
       "    <tr>\n",
       "      <th>2</th>\n",
       "      <td>2001</td>\n",
       "      <td>156</td>\n",
       "      <td>82.3</td>\n",
       "      <td>85.1</td>\n",
       "      <td>116.9</td>\n",
       "      <td>115.0</td>\n",
       "      <td>35.4</td>\n",
       "      <td>38.3</td>\n",
       "      <td>0.0</td>\n",
       "      <td>0.0</td>\n",
       "      <td>0.0</td>\n",
       "    </tr>\n",
       "    <tr>\n",
       "      <th>3</th>\n",
       "      <td>2001</td>\n",
       "      <td>292</td>\n",
       "      <td>121.2</td>\n",
       "      <td>117.3</td>\n",
       "      <td>107.8</td>\n",
       "      <td>107.7</td>\n",
       "      <td>103.2</td>\n",
       "      <td>103.1</td>\n",
       "      <td>1.0</td>\n",
       "      <td>2.0</td>\n",
       "      <td>1.0</td>\n",
       "    </tr>\n",
       "    <tr>\n",
       "      <th>4</th>\n",
       "      <td>2003</td>\n",
       "      <td>156</td>\n",
       "      <td>87.4</td>\n",
       "      <td>88.0</td>\n",
       "      <td>NaN</td>\n",
       "      <td>NaN</td>\n",
       "      <td>37.3</td>\n",
       "      <td>40.9</td>\n",
       "      <td>0.0</td>\n",
       "      <td>NaN</td>\n",
       "      <td>0.0</td>\n",
       "    </tr>\n",
       "  </tbody>\n",
       "</table>\n",
       "</div>"
      ],
      "text/plain": [
       "   Year  Region/Country/Area  \\\n",
       "0  2000                  492   \n",
       "1  2000                  674   \n",
       "2  2001                  156   \n",
       "3  2001                  292   \n",
       "4  2003                  156   \n",
       "\n",
       "   Gross enrollment ratio - Lower secondary level (female)  \\\n",
       "0                                              152.8         \n",
       "1                                               95.7         \n",
       "2                                               82.3         \n",
       "3                                              121.2         \n",
       "4                                               87.4         \n",
       "\n",
       "   Gross enrollment ratio - Lower secondary level (male)  \\\n",
       "0                                              138.4       \n",
       "1                                               92.7       \n",
       "2                                               85.1       \n",
       "3                                              117.3       \n",
       "4                                               88.0       \n",
       "\n",
       "   Gross enrollment ratio - Primary (female)  \\\n",
       "0                                      133.5   \n",
       "1                                       90.9   \n",
       "2                                      116.9   \n",
       "3                                      107.8   \n",
       "4                                        NaN   \n",
       "\n",
       "   Gross enrollment ratio - Primary (male)  \\\n",
       "0                                    132.9   \n",
       "1                                     93.7   \n",
       "2                                    115.0   \n",
       "3                                    107.7   \n",
       "4                                      NaN   \n",
       "\n",
       "   Gross enrollment ratio - Upper secondary level (female)  \\\n",
       "0                                              179.9         \n",
       "1                                               23.7         \n",
       "2                                               35.4         \n",
       "3                                              103.2         \n",
       "4                                               37.3         \n",
       "\n",
       "   Gross enrollment ratio - Upper secondary level (male)  \\\n",
       "0                                              144.4       \n",
       "1                                               19.1       \n",
       "2                                               38.3       \n",
       "3                                              103.1       \n",
       "4                                               40.9       \n",
       "\n",
       "   Students enrolled in lower secondary education (thousands)  \\\n",
       "0                                                2.0            \n",
       "1                                                1.0            \n",
       "2                                                0.0            \n",
       "3                                                1.0            \n",
       "4                                                0.0            \n",
       "\n",
       "   Students enrolled in primary education (thousands)  \\\n",
       "0                                                2.0    \n",
       "1                                                1.0    \n",
       "2                                                0.0    \n",
       "3                                                2.0    \n",
       "4                                                NaN    \n",
       "\n",
       "   Students enrolled in upper secondary education (thousands)  \n",
       "0                                                1.0           \n",
       "1                                                0.0           \n",
       "2                                                0.0           \n",
       "3                                                1.0           \n",
       "4                                                0.0           "
      ]
     },
     "execution_count": 8,
     "metadata": {},
     "output_type": "execute_result"
    }
   ],
   "source": [
    "url = \"https://raw.githubusercontent.com/Cfg-data/final-project/refs/heads/master/data/merged/variables/SYB67_309_202411_grouped_pivoted.csv\"\n",
    "\n",
    "# Load the CSV file into a pandas DataFrame\n",
    "df = pd.read_csv(url)\n",
    "\n",
    "# Display the first few rows of the dataframe\n",
    "df.head()"
   ]
  },
  {
   "cell_type": "code",
   "execution_count": 9,
   "id": "b5f6068b-e23c-46e8-bf03-6615ba561a63",
   "metadata": {},
   "outputs": [
    {
     "data": {
      "text/plain": [
       "(238, 11)"
      ]
     },
     "execution_count": 9,
     "metadata": {},
     "output_type": "execute_result"
    }
   ],
   "source": [
    "df.shape"
   ]
  },
  {
   "cell_type": "code",
   "execution_count": 10,
   "id": "5b689e30-924b-45af-acf5-2cea42973313",
   "metadata": {},
   "outputs": [
    {
     "name": "stdout",
     "output_type": "stream",
     "text": [
      "Year                                                           0\n",
      "Region/Country/Area                                            0\n",
      "Gross enrollment ratio - Lower secondary level (female)       13\n",
      "Gross enrollment ratio - Lower secondary level (male)         12\n",
      "Gross enrollment ratio - Primary (female)                     12\n",
      "Gross enrollment ratio - Primary (male)                       12\n",
      "Gross enrollment ratio - Upper secondary level (female)       13\n",
      "Gross enrollment ratio - Upper secondary level (male)         13\n",
      "Students enrolled in lower secondary education (thousands)     6\n",
      "Students enrolled in primary education (thousands)             7\n",
      "Students enrolled in upper secondary education (thousands)     8\n",
      "dtype: int64\n"
     ]
    }
   ],
   "source": [
    "null_values = df.isnull().sum()\n",
    "\n",
    "print(null_values)"
   ]
  },
  {
   "cell_type": "code",
   "execution_count": 11,
   "id": "bb84e21e-a7dd-40bb-8684-c6a092aeb5ec",
   "metadata": {},
   "outputs": [],
   "source": [
    "# List of columns to check for null values\n",
    "columns_to_check = [\n",
    "    'Gross enrollment ratio - Lower secondary level (female)',\n",
    "    'Gross enrollment ratio - Lower secondary level (male)',\n",
    "    'Gross enrollment ratio - Primary (female)',\n",
    "    'Gross enrollment ratio - Primary (male)',\n",
    "    'Gross enrollment ratio - Upper secondary level (female)',\n",
    "    'Gross enrollment ratio - Upper secondary level (male)',\n",
    "    'Students enrolled in lower secondary education (thousands)',\n",
    "    'Students enrolled in primary education (thousands)',\n",
    "    'Students enrolled in upper secondary education (thousands)'\n",
    "]\n",
    "\n",
    "# Drop rows where all values in the specified columns are null\n",
    "df.dropna(subset=columns_to_check, how='all', inplace=True)\n",
    "\n",
    "# Fill remaining null values in the DataFrame with 0\n",
    "df.fillna(0, inplace=True)"
   ]
  },
  {
   "cell_type": "code",
   "execution_count": 12,
   "id": "57790fa8-ff30-491a-aee7-6a269209589b",
   "metadata": {},
   "outputs": [
    {
     "data": {
      "text/plain": [
       "(238, 11)"
      ]
     },
     "execution_count": 12,
     "metadata": {},
     "output_type": "execute_result"
    }
   ],
   "source": [
    "df.shape"
   ]
  },
  {
   "cell_type": "code",
   "execution_count": 13,
   "id": "0ab32d54-609e-453a-b669-807e6e4b1430",
   "metadata": {},
   "outputs": [
    {
     "name": "stdout",
     "output_type": "stream",
     "text": [
      "Final CSV has been saved to: C:\\Users\\Cecilia\\Downloads\\ironhack\\coursework\\Final_Project\\data\\merged\\final\\SYB67_309_202411final_data.csv\n"
     ]
    }
   ],
   "source": [
    "# Define the output folder path\n",
    "output_folder = r\"C:\\Users\\Cecilia\\Downloads\\ironhack\\coursework\\Final_Project\\data\\merged\\final\"\n",
    "\n",
    "# Ensure the directory exists\n",
    "os.makedirs(output_folder, exist_ok=True)\n",
    "\n",
    "# Save the final DataFrame to a CSV file\n",
    "output_path = os.path.join(output_folder, \"SYB67_309_202411final_data.csv\")\n",
    "df.to_csv(output_path, index=False)\n",
    "\n",
    "# Print confirmation message\n",
    "print(f\"Final CSV has been saved to: {output_path}\")"
   ]
  },
  {
   "cell_type": "code",
   "execution_count": 14,
   "id": "5aa9bb82-f8ff-4e81-9519-b8a9fc2be389",
   "metadata": {},
   "outputs": [
    {
     "data": {
      "text/html": [
       "<div>\n",
       "<style scoped>\n",
       "    .dataframe tbody tr th:only-of-type {\n",
       "        vertical-align: middle;\n",
       "    }\n",
       "\n",
       "    .dataframe tbody tr th {\n",
       "        vertical-align: top;\n",
       "    }\n",
       "\n",
       "    .dataframe thead th {\n",
       "        text-align: right;\n",
       "    }\n",
       "</style>\n",
       "<table border=\"1\" class=\"dataframe\">\n",
       "  <thead>\n",
       "    <tr style=\"text-align: right;\">\n",
       "      <th></th>\n",
       "      <th>Year</th>\n",
       "      <th>Region/Country/Area</th>\n",
       "      <th>Ratio of girls to boys in lower secondary education</th>\n",
       "      <th>Ratio of girls to boys in primary education</th>\n",
       "      <th>Ratio of girls to boys in upper secondary education</th>\n",
       "    </tr>\n",
       "  </thead>\n",
       "  <tbody>\n",
       "    <tr>\n",
       "      <th>0</th>\n",
       "      <td>1995</td>\n",
       "      <td>8</td>\n",
       "      <td>NaN</td>\n",
       "      <td>0.97</td>\n",
       "      <td>NaN</td>\n",
       "    </tr>\n",
       "    <tr>\n",
       "      <th>1</th>\n",
       "      <td>1995</td>\n",
       "      <td>36</td>\n",
       "      <td>1.02</td>\n",
       "      <td>1.00</td>\n",
       "      <td>0.97</td>\n",
       "    </tr>\n",
       "    <tr>\n",
       "      <th>2</th>\n",
       "      <td>1995</td>\n",
       "      <td>40</td>\n",
       "      <td>1.00</td>\n",
       "      <td>0.99</td>\n",
       "      <td>0.89</td>\n",
       "    </tr>\n",
       "    <tr>\n",
       "      <th>3</th>\n",
       "      <td>1995</td>\n",
       "      <td>53</td>\n",
       "      <td>1.02</td>\n",
       "      <td>1.00</td>\n",
       "      <td>0.97</td>\n",
       "    </tr>\n",
       "    <tr>\n",
       "      <th>4</th>\n",
       "      <td>1995</td>\n",
       "      <td>56</td>\n",
       "      <td>1.12</td>\n",
       "      <td>0.99</td>\n",
       "      <td>1.04</td>\n",
       "    </tr>\n",
       "  </tbody>\n",
       "</table>\n",
       "</div>"
      ],
      "text/plain": [
       "   Year  Region/Country/Area  \\\n",
       "0  1995                    8   \n",
       "1  1995                   36   \n",
       "2  1995                   40   \n",
       "3  1995                   53   \n",
       "4  1995                   56   \n",
       "\n",
       "   Ratio of girls to boys in lower secondary education  \\\n",
       "0                                                NaN     \n",
       "1                                               1.02     \n",
       "2                                               1.00     \n",
       "3                                               1.02     \n",
       "4                                               1.12     \n",
       "\n",
       "   Ratio of girls to boys in primary education  \\\n",
       "0                                         0.97   \n",
       "1                                         1.00   \n",
       "2                                         0.99   \n",
       "3                                         1.00   \n",
       "4                                         0.99   \n",
       "\n",
       "   Ratio of girls to boys in upper secondary education  \n",
       "0                                                NaN    \n",
       "1                                               0.97    \n",
       "2                                               0.89    \n",
       "3                                               0.97    \n",
       "4                                               1.04    "
      ]
     },
     "execution_count": 14,
     "metadata": {},
     "output_type": "execute_result"
    }
   ],
   "source": [
    "url = \"https://raw.githubusercontent.com/Cfg-data/final-project/refs/heads/master/data/merged/variables/SYB67_319_202411_grouped_pivoted.csv\"\n",
    "\n",
    "# Load the CSV file into a pandas DataFrame\n",
    "df = pd.read_csv(url)\n",
    "\n",
    "# Display the first few rows of the dataframe\n",
    "df.head()"
   ]
  },
  {
   "cell_type": "code",
   "execution_count": 15,
   "id": "dc5ccaea-6e52-497c-b02f-0c4172068d7d",
   "metadata": {},
   "outputs": [
    {
     "data": {
      "text/plain": [
       "(348, 5)"
      ]
     },
     "execution_count": 15,
     "metadata": {},
     "output_type": "execute_result"
    }
   ],
   "source": [
    "df.shape"
   ]
  },
  {
   "cell_type": "code",
   "execution_count": 16,
   "id": "44a8bc55-cc81-4cb8-9952-0fbdc9ad82d8",
   "metadata": {},
   "outputs": [
    {
     "name": "stdout",
     "output_type": "stream",
     "text": [
      "Year                                                    0\n",
      "Region/Country/Area                                     0\n",
      "Ratio of girls to boys in lower secondary education    21\n",
      "Ratio of girls to boys in primary education             5\n",
      "Ratio of girls to boys in upper secondary education    19\n",
      "dtype: int64\n"
     ]
    }
   ],
   "source": [
    "null_values = df.isnull().sum()\n",
    "\n",
    "print(null_values)"
   ]
  },
  {
   "cell_type": "code",
   "execution_count": 17,
   "id": "050fd958-300f-41a7-935c-6ed5d3c11728",
   "metadata": {},
   "outputs": [],
   "source": [
    "# List of columns to check for null values\n",
    "columns_to_check = [\n",
    "    'Ratio of girls to boys in lower secondary education',\n",
    "    'Ratio of girls to boys in primary education',\n",
    "    'Ratio of girls to boys in upper secondary education'\n",
    "]\n",
    "\n",
    "# Drop rows where all values in the specified columns are null\n",
    "df.dropna(subset=columns_to_check, how='all', inplace=True)\n",
    "\n",
    "# Fill remaining null values in the DataFrame with 0\n",
    "df.fillna(0, inplace=True)"
   ]
  },
  {
   "cell_type": "code",
   "execution_count": 18,
   "id": "baa0a89c-4590-4dd3-9322-974314708ddb",
   "metadata": {},
   "outputs": [
    {
     "data": {
      "text/plain": [
       "(348, 5)"
      ]
     },
     "execution_count": 18,
     "metadata": {},
     "output_type": "execute_result"
    }
   ],
   "source": [
    "df.shape"
   ]
  },
  {
   "cell_type": "code",
   "execution_count": 19,
   "id": "6f60e81c-c231-4865-8260-e5344ca277f7",
   "metadata": {},
   "outputs": [
    {
     "name": "stdout",
     "output_type": "stream",
     "text": [
      "Final CSV has been saved to: C:\\Users\\Cecilia\\Downloads\\ironhack\\coursework\\Final_Project\\data\\merged\\final\\SYB67_319_202411final_data.csv\n"
     ]
    }
   ],
   "source": [
    "# Define the output folder path\n",
    "output_folder = r\"C:\\Users\\Cecilia\\Downloads\\ironhack\\coursework\\Final_Project\\data\\merged\\final\"\n",
    "\n",
    "# Ensure the directory exists\n",
    "os.makedirs(output_folder, exist_ok=True)\n",
    "\n",
    "# Save the final DataFrame to a CSV file\n",
    "output_path = os.path.join(output_folder, \"SYB67_319_202411final_data.csv\")\n",
    "df.to_csv(output_path, index=False)\n",
    "\n",
    "# Print confirmation message\n",
    "print(f\"Final CSV has been saved to: {output_path}\")"
   ]
  },
  {
   "cell_type": "code",
   "execution_count": 20,
   "id": "9000feab-f11d-46d3-9668-0c93757a5f21",
   "metadata": {},
   "outputs": [
    {
     "data": {
      "text/html": [
       "<div>\n",
       "<style scoped>\n",
       "    .dataframe tbody tr th:only-of-type {\n",
       "        vertical-align: middle;\n",
       "    }\n",
       "\n",
       "    .dataframe tbody tr th {\n",
       "        vertical-align: top;\n",
       "    }\n",
       "\n",
       "    .dataframe thead th {\n",
       "        text-align: right;\n",
       "    }\n",
       "</style>\n",
       "<table border=\"1\" class=\"dataframe\">\n",
       "  <thead>\n",
       "    <tr style=\"text-align: right;\">\n",
       "      <th></th>\n",
       "      <th>Year</th>\n",
       "      <th>Region/Country/Area</th>\n",
       "      <th>Teachers at lower secondary level</th>\n",
       "      <th>Teachers at primary level</th>\n",
       "      <th>Teachers at upper secondary level</th>\n",
       "      <th>Teachers with minimum required qualifications at lower secondary level</th>\n",
       "      <th>Teachers with minimum required qualifications at primary level</th>\n",
       "      <th>Teachers with minimum required qualifications at upper secondary level</th>\n",
       "    </tr>\n",
       "  </thead>\n",
       "  <tbody>\n",
       "    <tr>\n",
       "      <th>0</th>\n",
       "      <td>2000</td>\n",
       "      <td>124</td>\n",
       "      <td>NaN</td>\n",
       "      <td>0.0</td>\n",
       "      <td>NaN</td>\n",
       "      <td>NaN</td>\n",
       "      <td>NaN</td>\n",
       "      <td>NaN</td>\n",
       "    </tr>\n",
       "    <tr>\n",
       "      <th>1</th>\n",
       "      <td>2000</td>\n",
       "      <td>268</td>\n",
       "      <td>0.0</td>\n",
       "      <td>0.0</td>\n",
       "      <td>0.0</td>\n",
       "      <td>76.8</td>\n",
       "      <td>94.7</td>\n",
       "      <td>93.0</td>\n",
       "    </tr>\n",
       "    <tr>\n",
       "      <th>2</th>\n",
       "      <td>2001</td>\n",
       "      <td>208</td>\n",
       "      <td>0.0</td>\n",
       "      <td>0.0</td>\n",
       "      <td>0.0</td>\n",
       "      <td>NaN</td>\n",
       "      <td>NaN</td>\n",
       "      <td>NaN</td>\n",
       "    </tr>\n",
       "    <tr>\n",
       "      <th>3</th>\n",
       "      <td>2001</td>\n",
       "      <td>233</td>\n",
       "      <td>0.0</td>\n",
       "      <td>0.0</td>\n",
       "      <td>0.0</td>\n",
       "      <td>NaN</td>\n",
       "      <td>NaN</td>\n",
       "      <td>NaN</td>\n",
       "    </tr>\n",
       "    <tr>\n",
       "      <th>4</th>\n",
       "      <td>2001</td>\n",
       "      <td>292</td>\n",
       "      <td>88.0</td>\n",
       "      <td>115.0</td>\n",
       "      <td>44.0</td>\n",
       "      <td>100.0</td>\n",
       "      <td>100.0</td>\n",
       "      <td>100.0</td>\n",
       "    </tr>\n",
       "  </tbody>\n",
       "</table>\n",
       "</div>"
      ],
      "text/plain": [
       "   Year  Region/Country/Area  Teachers at lower secondary level  \\\n",
       "0  2000                  124                                NaN   \n",
       "1  2000                  268                                0.0   \n",
       "2  2001                  208                                0.0   \n",
       "3  2001                  233                                0.0   \n",
       "4  2001                  292                               88.0   \n",
       "\n",
       "   Teachers at primary level  Teachers at upper secondary level  \\\n",
       "0                        0.0                                NaN   \n",
       "1                        0.0                                0.0   \n",
       "2                        0.0                                0.0   \n",
       "3                        0.0                                0.0   \n",
       "4                      115.0                               44.0   \n",
       "\n",
       "   Teachers with minimum required qualifications at lower secondary level  \\\n",
       "0                                                NaN                        \n",
       "1                                               76.8                        \n",
       "2                                                NaN                        \n",
       "3                                                NaN                        \n",
       "4                                              100.0                        \n",
       "\n",
       "   Teachers with minimum required qualifications at primary level  \\\n",
       "0                                                NaN                \n",
       "1                                               94.7                \n",
       "2                                                NaN                \n",
       "3                                                NaN                \n",
       "4                                              100.0                \n",
       "\n",
       "   Teachers with minimum required qualifications at upper secondary level  \n",
       "0                                                NaN                       \n",
       "1                                               93.0                       \n",
       "2                                                NaN                       \n",
       "3                                                NaN                       \n",
       "4                                              100.0                       "
      ]
     },
     "execution_count": 20,
     "metadata": {},
     "output_type": "execute_result"
    }
   ],
   "source": [
    "url = \"https://raw.githubusercontent.com/Cfg-data/final-project/refs/heads/master/data/merged/variables/SYB67_323_202411_grouped_pivoted.csv\"\n",
    "\n",
    "# Load the CSV file into a pandas DataFrame\n",
    "df = pd.read_csv(url)\n",
    "\n",
    "# Display the first few rows of the dataframe\n",
    "df.head()"
   ]
  },
  {
   "cell_type": "code",
   "execution_count": 21,
   "id": "b7af0ba3-a85f-4802-ac34-216a69d61773",
   "metadata": {},
   "outputs": [
    {
     "data": {
      "text/plain": [
       "(241, 8)"
      ]
     },
     "execution_count": 21,
     "metadata": {},
     "output_type": "execute_result"
    }
   ],
   "source": [
    "df.shape"
   ]
  },
  {
   "cell_type": "code",
   "execution_count": 22,
   "id": "bdfe579f-6797-4e3f-b332-05fa292b2543",
   "metadata": {},
   "outputs": [
    {
     "name": "stdout",
     "output_type": "stream",
     "text": [
      "Year                                                                        0\n",
      "Region/Country/Area                                                         0\n",
      "Teachers at lower secondary level                                          51\n",
      "Teachers at primary level                                                  14\n",
      "Teachers at upper secondary level                                          58\n",
      "Teachers with minimum required qualifications at lower secondary level    192\n",
      "Teachers with minimum required qualifications at primary level            159\n",
      "Teachers with minimum required qualifications at upper secondary level    196\n",
      "dtype: int64\n"
     ]
    }
   ],
   "source": [
    "null_values = df.isnull().sum()\n",
    "\n",
    "print(null_values)"
   ]
  },
  {
   "cell_type": "code",
   "execution_count": 23,
   "id": "a68dd560-989e-4b62-8454-e69e8d40b2d8",
   "metadata": {},
   "outputs": [],
   "source": [
    "# List of columns to check for null values\n",
    "columns_to_check = [\n",
    "    'Teachers at lower secondary level',\n",
    "    'Teachers at primary level',\n",
    "    'Teachers at upper secondary level',\n",
    "    'Teachers with minimum required qualifications at lower secondary level',\n",
    "    'Teachers with minimum required qualifications at primary level',\n",
    "    'Teachers with minimum required qualifications at upper secondary level'\n",
    "]\n",
    "\n",
    "# Drop rows where all values in the specified columns are null\n",
    "df.dropna(subset=columns_to_check, how='all', inplace=True)\n",
    "\n",
    "# Fill remaining null values in the DataFrame with 0\n",
    "df.fillna(0, inplace=True)"
   ]
  },
  {
   "cell_type": "code",
   "execution_count": 24,
   "id": "b375c3db-3a7e-48bd-a7a8-9659ba93a4a2",
   "metadata": {},
   "outputs": [
    {
     "data": {
      "text/plain": [
       "(241, 8)"
      ]
     },
     "execution_count": 24,
     "metadata": {},
     "output_type": "execute_result"
    }
   ],
   "source": [
    "df.shape"
   ]
  },
  {
   "cell_type": "code",
   "execution_count": 25,
   "id": "e05c6d46-7490-4d40-8919-fda3de8a6756",
   "metadata": {},
   "outputs": [
    {
     "name": "stdout",
     "output_type": "stream",
     "text": [
      "Final CSV has been saved to: C:\\Users\\Cecilia\\Downloads\\ironhack\\coursework\\Final_Project\\data\\merged\\final\\SYB67_323_202411final_data.csv\n"
     ]
    }
   ],
   "source": [
    "# Define the output folder path\n",
    "output_folder = r\"C:\\Users\\Cecilia\\Downloads\\ironhack\\coursework\\Final_Project\\data\\merged\\final\"\n",
    "\n",
    "# Ensure the directory exists\n",
    "os.makedirs(output_folder, exist_ok=True)\n",
    "\n",
    "# Save the final DataFrame to a CSV file\n",
    "output_path = os.path.join(output_folder, \"SYB67_323_202411final_data.csv\")\n",
    "df.to_csv(output_path, index=False)\n",
    "\n",
    "# Print confirmation message\n",
    "print(f\"Final CSV has been saved to: {output_path}\")"
   ]
  },
  {
   "cell_type": "markdown",
   "id": "6e713dfd-8414-429f-8872-9cb2c3eb618e",
   "metadata": {},
   "source": [
    "**Fill null values and drop null rows for areas chosen**"
   ]
  },
  {
   "cell_type": "code",
   "execution_count": 26,
   "id": "ed045656-5fa7-4e3d-bfb2-129dc27ef33b",
   "metadata": {},
   "outputs": [
    {
     "data": {
      "text/html": [
       "<div>\n",
       "<style scoped>\n",
       "    .dataframe tbody tr th:only-of-type {\n",
       "        vertical-align: middle;\n",
       "    }\n",
       "\n",
       "    .dataframe tbody tr th {\n",
       "        vertical-align: top;\n",
       "    }\n",
       "\n",
       "    .dataframe thead th {\n",
       "        text-align: right;\n",
       "    }\n",
       "</style>\n",
       "<table border=\"1\" class=\"dataframe\">\n",
       "  <thead>\n",
       "    <tr style=\"text-align: right;\">\n",
       "      <th></th>\n",
       "      <th>Year</th>\n",
       "      <th>Region/Country/Area</th>\n",
       "      <th>Gross enrollment ratio - Lower secondary level (female)</th>\n",
       "      <th>Gross enrollment ratio - Lower secondary level (male)</th>\n",
       "      <th>Gross enrollment ratio - Primary (female)</th>\n",
       "      <th>Gross enrollment ratio - Primary (male)</th>\n",
       "      <th>Gross enrollment ratio - Upper secondary level (female)</th>\n",
       "      <th>Gross enrollment ratio - Upper secondary level (male)</th>\n",
       "      <th>Students enrolled in lower secondary education (thousands)</th>\n",
       "      <th>Students enrolled in primary education (thousands)</th>\n",
       "      <th>Students enrolled in upper secondary education (thousands)</th>\n",
       "    </tr>\n",
       "  </thead>\n",
       "  <tbody>\n",
       "    <tr>\n",
       "      <th>0</th>\n",
       "      <td>2005</td>\n",
       "      <td>1</td>\n",
       "      <td>76.6</td>\n",
       "      <td>80.7</td>\n",
       "      <td>99.8</td>\n",
       "      <td>104.5</td>\n",
       "      <td>48.3</td>\n",
       "      <td>51.2</td>\n",
       "      <td>0.0</td>\n",
       "      <td>0.0</td>\n",
       "      <td>0.0</td>\n",
       "    </tr>\n",
       "    <tr>\n",
       "      <th>1</th>\n",
       "      <td>2005</td>\n",
       "      <td>9</td>\n",
       "      <td>102.7</td>\n",
       "      <td>104.4</td>\n",
       "      <td>89.5</td>\n",
       "      <td>91.1</td>\n",
       "      <td>113.0</td>\n",
       "      <td>117.9</td>\n",
       "      <td>0.0</td>\n",
       "      <td>0.0</td>\n",
       "      <td>0.0</td>\n",
       "    </tr>\n",
       "    <tr>\n",
       "      <th>2</th>\n",
       "      <td>2005</td>\n",
       "      <td>15</td>\n",
       "      <td>81.8</td>\n",
       "      <td>86.8</td>\n",
       "      <td>89.3</td>\n",
       "      <td>95.7</td>\n",
       "      <td>55.0</td>\n",
       "      <td>51.1</td>\n",
       "      <td>0.0</td>\n",
       "      <td>0.0</td>\n",
       "      <td>0.0</td>\n",
       "    </tr>\n",
       "    <tr>\n",
       "      <th>3</th>\n",
       "      <td>2005</td>\n",
       "      <td>21</td>\n",
       "      <td>99.8</td>\n",
       "      <td>101.4</td>\n",
       "      <td>101.0</td>\n",
       "      <td>102.1</td>\n",
       "      <td>92.7</td>\n",
       "      <td>88.6</td>\n",
       "      <td>0.0</td>\n",
       "      <td>0.0</td>\n",
       "      <td>0.0</td>\n",
       "    </tr>\n",
       "    <tr>\n",
       "      <th>4</th>\n",
       "      <td>2005</td>\n",
       "      <td>30</td>\n",
       "      <td>98.8</td>\n",
       "      <td>98.4</td>\n",
       "      <td>108.5</td>\n",
       "      <td>107.0</td>\n",
       "      <td>51.0</td>\n",
       "      <td>51.0</td>\n",
       "      <td>0.0</td>\n",
       "      <td>0.0</td>\n",
       "      <td>0.0</td>\n",
       "    </tr>\n",
       "  </tbody>\n",
       "</table>\n",
       "</div>"
      ],
      "text/plain": [
       "   Year  Region/Country/Area  \\\n",
       "0  2005                    1   \n",
       "1  2005                    9   \n",
       "2  2005                   15   \n",
       "3  2005                   21   \n",
       "4  2005                   30   \n",
       "\n",
       "   Gross enrollment ratio - Lower secondary level (female)  \\\n",
       "0                                               76.6         \n",
       "1                                              102.7         \n",
       "2                                               81.8         \n",
       "3                                               99.8         \n",
       "4                                               98.8         \n",
       "\n",
       "   Gross enrollment ratio - Lower secondary level (male)  \\\n",
       "0                                               80.7       \n",
       "1                                              104.4       \n",
       "2                                               86.8       \n",
       "3                                              101.4       \n",
       "4                                               98.4       \n",
       "\n",
       "   Gross enrollment ratio - Primary (female)  \\\n",
       "0                                       99.8   \n",
       "1                                       89.5   \n",
       "2                                       89.3   \n",
       "3                                      101.0   \n",
       "4                                      108.5   \n",
       "\n",
       "   Gross enrollment ratio - Primary (male)  \\\n",
       "0                                    104.5   \n",
       "1                                     91.1   \n",
       "2                                     95.7   \n",
       "3                                    102.1   \n",
       "4                                    107.0   \n",
       "\n",
       "   Gross enrollment ratio - Upper secondary level (female)  \\\n",
       "0                                               48.3         \n",
       "1                                              113.0         \n",
       "2                                               55.0         \n",
       "3                                               92.7         \n",
       "4                                               51.0         \n",
       "\n",
       "   Gross enrollment ratio - Upper secondary level (male)  \\\n",
       "0                                               51.2       \n",
       "1                                              117.9       \n",
       "2                                               51.1       \n",
       "3                                               88.6       \n",
       "4                                               51.0       \n",
       "\n",
       "   Students enrolled in lower secondary education (thousands)  \\\n",
       "0                                                0.0            \n",
       "1                                                0.0            \n",
       "2                                                0.0            \n",
       "3                                                0.0            \n",
       "4                                                0.0            \n",
       "\n",
       "   Students enrolled in primary education (thousands)  \\\n",
       "0                                                0.0    \n",
       "1                                                0.0    \n",
       "2                                                0.0    \n",
       "3                                                0.0    \n",
       "4                                                0.0    \n",
       "\n",
       "   Students enrolled in upper secondary education (thousands)  \n",
       "0                                                0.0           \n",
       "1                                                0.0           \n",
       "2                                                0.0           \n",
       "3                                                0.0           \n",
       "4                                                0.0           "
      ]
     },
     "execution_count": 26,
     "metadata": {},
     "output_type": "execute_result"
    }
   ],
   "source": [
    "url = \"https://raw.githubusercontent.com/Cfg-data/final-project/refs/heads/master/data/merged/yearsvars/areas_SYB67_309_202411_grouped_pivoted.csv\"\n",
    "\n",
    "# Load the CSV file into a pandas DataFrame\n",
    "df = pd.read_csv(url)\n",
    "\n",
    "# Display the first few rows of the dataframe\n",
    "df.head()"
   ]
  },
  {
   "cell_type": "code",
   "execution_count": 27,
   "id": "0da3fbc1-e229-47f6-bf77-5eed2be3c0ea",
   "metadata": {},
   "outputs": [
    {
     "data": {
      "text/plain": [
       "(63, 11)"
      ]
     },
     "execution_count": 27,
     "metadata": {},
     "output_type": "execute_result"
    }
   ],
   "source": [
    "df.shape"
   ]
  },
  {
   "cell_type": "code",
   "execution_count": 28,
   "id": "545091e0-83c4-4336-8b07-1cbc4dd6fab4",
   "metadata": {},
   "outputs": [
    {
     "name": "stdout",
     "output_type": "stream",
     "text": [
      "Year                                                          0\n",
      "Region/Country/Area                                           0\n",
      "Gross enrollment ratio - Lower secondary level (female)       3\n",
      "Gross enrollment ratio - Lower secondary level (male)         3\n",
      "Gross enrollment ratio - Primary (female)                     0\n",
      "Gross enrollment ratio - Primary (male)                       0\n",
      "Gross enrollment ratio - Upper secondary level (female)       3\n",
      "Gross enrollment ratio - Upper secondary level (male)         3\n",
      "Students enrolled in lower secondary education (thousands)    3\n",
      "Students enrolled in primary education (thousands)            0\n",
      "Students enrolled in upper secondary education (thousands)    3\n",
      "dtype: int64\n"
     ]
    }
   ],
   "source": [
    "null_values = df.isnull().sum()\n",
    "\n",
    "print(null_values)"
   ]
  },
  {
   "cell_type": "code",
   "execution_count": 29,
   "id": "ff07bb97-257d-40ab-ae25-00962c9131a0",
   "metadata": {},
   "outputs": [],
   "source": [
    "# List of columns to check for null values\n",
    "columns_to_check = [\n",
    "    'Gross enrollment ratio - Lower secondary level (female)',\n",
    "    'Gross enrollment ratio - Lower secondary level (male)',\n",
    "    'Gross enrollment ratio - Primary (female)',\n",
    "    'Gross enrollment ratio - Primary (male)',\n",
    "    'Gross enrollment ratio - Upper secondary level (female)',\n",
    "    'Gross enrollment ratio - Upper secondary level (male)',\n",
    "    'Students enrolled in lower secondary education (thousands)',\n",
    "    'Students enrolled in primary education (thousands)',\n",
    "    'Students enrolled in upper secondary education (thousands)'\n",
    "]\n",
    "\n",
    "# Drop rows where all values in the specified columns are null\n",
    "df.dropna(subset=columns_to_check, how='all', inplace=True)\n",
    "\n",
    "# Fill remaining null values in the DataFrame with 0\n",
    "df.fillna(0, inplace=True)"
   ]
  },
  {
   "cell_type": "code",
   "execution_count": 30,
   "id": "cca5c23a-33c8-4993-a5e1-385c4ea8a8d3",
   "metadata": {},
   "outputs": [
    {
     "data": {
      "text/plain": [
       "(63, 11)"
      ]
     },
     "execution_count": 30,
     "metadata": {},
     "output_type": "execute_result"
    }
   ],
   "source": [
    "df.shape"
   ]
  },
  {
   "cell_type": "code",
   "execution_count": 31,
   "id": "d352b063-40f3-470c-8252-e77aa762159a",
   "metadata": {},
   "outputs": [
    {
     "name": "stdout",
     "output_type": "stream",
     "text": [
      "Final CSV has been saved to: C:\\Users\\Cecilia\\Downloads\\ironhack\\coursework\\Final_Project\\data\\merged\\final\\areas_SYB67_309_202411final_data.csv\n"
     ]
    }
   ],
   "source": [
    "# Define the output folder path\n",
    "output_folder = r\"C:\\Users\\Cecilia\\Downloads\\ironhack\\coursework\\Final_Project\\data\\merged\\final\"\n",
    "\n",
    "# Ensure the directory exists\n",
    "os.makedirs(output_folder, exist_ok=True)\n",
    "\n",
    "# Save the final DataFrame to a CSV file\n",
    "output_path = os.path.join(output_folder, \"areas_SYB67_309_202411final_data.csv\")\n",
    "df.to_csv(output_path, index=False)\n",
    "\n",
    "# Print confirmation message\n",
    "print(f\"Final CSV has been saved to: {output_path}\")"
   ]
  },
  {
   "cell_type": "code",
   "execution_count": 32,
   "id": "8b367650-e588-4d17-94bd-36471692a45f",
   "metadata": {},
   "outputs": [
    {
     "data": {
      "text/html": [
       "<div>\n",
       "<style scoped>\n",
       "    .dataframe tbody tr th:only-of-type {\n",
       "        vertical-align: middle;\n",
       "    }\n",
       "\n",
       "    .dataframe tbody tr th {\n",
       "        vertical-align: top;\n",
       "    }\n",
       "\n",
       "    .dataframe thead th {\n",
       "        text-align: right;\n",
       "    }\n",
       "</style>\n",
       "<table border=\"1\" class=\"dataframe\">\n",
       "  <thead>\n",
       "    <tr style=\"text-align: right;\">\n",
       "      <th></th>\n",
       "      <th>Year</th>\n",
       "      <th>Region/Country/Area</th>\n",
       "      <th>Ratio of girls to boys in lower secondary education</th>\n",
       "      <th>Ratio of girls to boys in primary education</th>\n",
       "      <th>Ratio of girls to boys in upper secondary education</th>\n",
       "    </tr>\n",
       "  </thead>\n",
       "  <tbody>\n",
       "    <tr>\n",
       "      <th>0</th>\n",
       "      <td>1995</td>\n",
       "      <td>1</td>\n",
       "      <td>0.90</td>\n",
       "      <td>0.91</td>\n",
       "      <td>0.83</td>\n",
       "    </tr>\n",
       "    <tr>\n",
       "      <th>1</th>\n",
       "      <td>1995</td>\n",
       "      <td>9</td>\n",
       "      <td>1.02</td>\n",
       "      <td>0.99</td>\n",
       "      <td>1.00</td>\n",
       "    </tr>\n",
       "    <tr>\n",
       "      <th>2</th>\n",
       "      <td>1995</td>\n",
       "      <td>15</td>\n",
       "      <td>0.84</td>\n",
       "      <td>0.87</td>\n",
       "      <td>0.93</td>\n",
       "    </tr>\n",
       "    <tr>\n",
       "      <th>3</th>\n",
       "      <td>1995</td>\n",
       "      <td>21</td>\n",
       "      <td>0.99</td>\n",
       "      <td>0.99</td>\n",
       "      <td>1.05</td>\n",
       "    </tr>\n",
       "    <tr>\n",
       "      <th>4</th>\n",
       "      <td>1995</td>\n",
       "      <td>30</td>\n",
       "      <td>0.89</td>\n",
       "      <td>0.97</td>\n",
       "      <td>0.88</td>\n",
       "    </tr>\n",
       "  </tbody>\n",
       "</table>\n",
       "</div>"
      ],
      "text/plain": [
       "   Year  Region/Country/Area  \\\n",
       "0  1995                    1   \n",
       "1  1995                    9   \n",
       "2  1995                   15   \n",
       "3  1995                   21   \n",
       "4  1995                   30   \n",
       "\n",
       "   Ratio of girls to boys in lower secondary education  \\\n",
       "0                                               0.90     \n",
       "1                                               1.02     \n",
       "2                                               0.84     \n",
       "3                                               0.99     \n",
       "4                                               0.89     \n",
       "\n",
       "   Ratio of girls to boys in primary education  \\\n",
       "0                                         0.91   \n",
       "1                                         0.99   \n",
       "2                                         0.87   \n",
       "3                                         0.99   \n",
       "4                                         0.97   \n",
       "\n",
       "   Ratio of girls to boys in upper secondary education  \n",
       "0                                               0.83    \n",
       "1                                               1.00    \n",
       "2                                               0.93    \n",
       "3                                               1.05    \n",
       "4                                               0.88    "
      ]
     },
     "execution_count": 32,
     "metadata": {},
     "output_type": "execute_result"
    }
   ],
   "source": [
    "url = \"https://raw.githubusercontent.com/Cfg-data/final-project/refs/heads/master/data/merged/yearsvars/areas_SYB67_319_202411_grouped_pivoted.csv\"\n",
    "\n",
    "# Load the CSV file into a pandas DataFrame\n",
    "df = pd.read_csv(url)\n",
    "\n",
    "# Display the first few rows of the dataframe\n",
    "df.head()"
   ]
  },
  {
   "cell_type": "code",
   "execution_count": 33,
   "id": "d3b3233b-7059-4cd7-a822-1c55c2ea1ef0",
   "metadata": {},
   "outputs": [
    {
     "data": {
      "text/plain": [
       "(111, 5)"
      ]
     },
     "execution_count": 33,
     "metadata": {},
     "output_type": "execute_result"
    }
   ],
   "source": [
    "df.shape"
   ]
  },
  {
   "cell_type": "code",
   "execution_count": 34,
   "id": "69ebdb8d-0758-4c10-9e1a-dc234ccc10fc",
   "metadata": {},
   "outputs": [
    {
     "name": "stdout",
     "output_type": "stream",
     "text": [
      "Year                                                    0\n",
      "Region/Country/Area                                     0\n",
      "Ratio of girls to boys in lower secondary education    10\n",
      "Ratio of girls to boys in primary education             0\n",
      "Ratio of girls to boys in upper secondary education    10\n",
      "dtype: int64\n"
     ]
    }
   ],
   "source": [
    "null_values = df.isnull().sum()\n",
    "\n",
    "print(null_values)"
   ]
  },
  {
   "cell_type": "code",
   "execution_count": 35,
   "id": "7af58a22-7195-4189-9a96-39e3290db09c",
   "metadata": {},
   "outputs": [],
   "source": [
    "# List of columns to check for null values\n",
    "columns_to_check = [\n",
    "    'Ratio of girls to boys in lower secondary education',\n",
    "    'Ratio of girls to boys in primary education',\n",
    "    'Ratio of girls to boys in upper secondary education'\n",
    "]\n",
    "\n",
    "# Drop rows where all values in the specified columns are null\n",
    "df.dropna(subset=columns_to_check, how='all', inplace=True)\n",
    "\n",
    "# Fill remaining null values in the DataFrame with 0\n",
    "df.fillna(0, inplace=True)"
   ]
  },
  {
   "cell_type": "code",
   "execution_count": 36,
   "id": "489714c5-5018-4ad6-afe2-53511d323eb8",
   "metadata": {},
   "outputs": [
    {
     "data": {
      "text/plain": [
       "(111, 5)"
      ]
     },
     "execution_count": 36,
     "metadata": {},
     "output_type": "execute_result"
    }
   ],
   "source": [
    "df.shape"
   ]
  },
  {
   "cell_type": "code",
   "execution_count": 37,
   "id": "812505bc-4700-4a00-9d00-ff1917a6ae15",
   "metadata": {},
   "outputs": [
    {
     "name": "stdout",
     "output_type": "stream",
     "text": [
      "Final CSV has been saved to: C:\\Users\\Cecilia\\Downloads\\ironhack\\coursework\\Final_Project\\data\\merged\\final\\areas_SYB67_319_202411final_data.csv\n"
     ]
    }
   ],
   "source": [
    "# Define the output folder path\n",
    "output_folder = r\"C:\\Users\\Cecilia\\Downloads\\ironhack\\coursework\\Final_Project\\data\\merged\\final\"\n",
    "\n",
    "# Ensure the directory exists\n",
    "os.makedirs(output_folder, exist_ok=True)\n",
    "\n",
    "# Save the final DataFrame to a CSV file\n",
    "output_path = os.path.join(output_folder, \"areas_SYB67_319_202411final_data.csv\")\n",
    "df.to_csv(output_path, index=False)\n",
    "\n",
    "# Print confirmation message\n",
    "print(f\"Final CSV has been saved to: {output_path}\")"
   ]
  },
  {
   "cell_type": "code",
   "execution_count": 38,
   "id": "4fc92874-0ff3-402a-85f7-7dd161eac108",
   "metadata": {},
   "outputs": [
    {
     "data": {
      "text/html": [
       "<div>\n",
       "<style scoped>\n",
       "    .dataframe tbody tr th:only-of-type {\n",
       "        vertical-align: middle;\n",
       "    }\n",
       "\n",
       "    .dataframe tbody tr th {\n",
       "        vertical-align: top;\n",
       "    }\n",
       "\n",
       "    .dataframe thead th {\n",
       "        text-align: right;\n",
       "    }\n",
       "</style>\n",
       "<table border=\"1\" class=\"dataframe\">\n",
       "  <thead>\n",
       "    <tr style=\"text-align: right;\">\n",
       "      <th></th>\n",
       "      <th>Year</th>\n",
       "      <th>Region/Country/Area</th>\n",
       "      <th>Teachers at lower secondary level</th>\n",
       "      <th>Teachers at primary level</th>\n",
       "      <th>Teachers at upper secondary level</th>\n",
       "      <th>Teachers with minimum required qualifications at lower secondary level</th>\n",
       "      <th>Teachers with minimum required qualifications at primary level</th>\n",
       "      <th>Teachers with minimum required qualifications at upper secondary level</th>\n",
       "    </tr>\n",
       "  </thead>\n",
       "  <tbody>\n",
       "    <tr>\n",
       "      <th>0</th>\n",
       "      <td>2004</td>\n",
       "      <td>145</td>\n",
       "      <td>0.0</td>\n",
       "      <td>0.0</td>\n",
       "      <td>0.0</td>\n",
       "      <td>NaN</td>\n",
       "      <td>93.3</td>\n",
       "      <td>NaN</td>\n",
       "    </tr>\n",
       "    <tr>\n",
       "      <th>1</th>\n",
       "      <td>2005</td>\n",
       "      <td>1</td>\n",
       "      <td>0.0</td>\n",
       "      <td>0.0</td>\n",
       "      <td>0.0</td>\n",
       "      <td>NaN</td>\n",
       "      <td>NaN</td>\n",
       "      <td>NaN</td>\n",
       "    </tr>\n",
       "    <tr>\n",
       "      <th>2</th>\n",
       "      <td>2005</td>\n",
       "      <td>9</td>\n",
       "      <td>NaN</td>\n",
       "      <td>0.0</td>\n",
       "      <td>NaN</td>\n",
       "      <td>NaN</td>\n",
       "      <td>NaN</td>\n",
       "      <td>NaN</td>\n",
       "    </tr>\n",
       "    <tr>\n",
       "      <th>3</th>\n",
       "      <td>2005</td>\n",
       "      <td>15</td>\n",
       "      <td>0.0</td>\n",
       "      <td>0.0</td>\n",
       "      <td>0.0</td>\n",
       "      <td>NaN</td>\n",
       "      <td>97.4</td>\n",
       "      <td>NaN</td>\n",
       "    </tr>\n",
       "    <tr>\n",
       "      <th>4</th>\n",
       "      <td>2005</td>\n",
       "      <td>21</td>\n",
       "      <td>0.0</td>\n",
       "      <td>0.0</td>\n",
       "      <td>0.0</td>\n",
       "      <td>NaN</td>\n",
       "      <td>NaN</td>\n",
       "      <td>NaN</td>\n",
       "    </tr>\n",
       "  </tbody>\n",
       "</table>\n",
       "</div>"
      ],
      "text/plain": [
       "   Year  Region/Country/Area  Teachers at lower secondary level  \\\n",
       "0  2004                  145                                0.0   \n",
       "1  2005                    1                                0.0   \n",
       "2  2005                    9                                NaN   \n",
       "3  2005                   15                                0.0   \n",
       "4  2005                   21                                0.0   \n",
       "\n",
       "   Teachers at primary level  Teachers at upper secondary level  \\\n",
       "0                        0.0                                0.0   \n",
       "1                        0.0                                0.0   \n",
       "2                        0.0                                NaN   \n",
       "3                        0.0                                0.0   \n",
       "4                        0.0                                0.0   \n",
       "\n",
       "   Teachers with minimum required qualifications at lower secondary level  \\\n",
       "0                                                NaN                        \n",
       "1                                                NaN                        \n",
       "2                                                NaN                        \n",
       "3                                                NaN                        \n",
       "4                                                NaN                        \n",
       "\n",
       "   Teachers with minimum required qualifications at primary level  \\\n",
       "0                                               93.3                \n",
       "1                                                NaN                \n",
       "2                                                NaN                \n",
       "3                                               97.4                \n",
       "4                                                NaN                \n",
       "\n",
       "   Teachers with minimum required qualifications at upper secondary level  \n",
       "0                                                NaN                       \n",
       "1                                                NaN                       \n",
       "2                                                NaN                       \n",
       "3                                                NaN                       \n",
       "4                                                NaN                       "
      ]
     },
     "execution_count": 38,
     "metadata": {},
     "output_type": "execute_result"
    }
   ],
   "source": [
    "url = \"https://raw.githubusercontent.com/Cfg-data/final-project/refs/heads/master/data/merged/yearsvars/areas_SYB67_323_202411_grouped_pivoted.csv\"\n",
    "\n",
    "# Load the CSV file into a pandas DataFrame\n",
    "df = pd.read_csv(url)\n",
    "\n",
    "# Display the first few rows of the dataframe\n",
    "df.head()"
   ]
  },
  {
   "cell_type": "code",
   "execution_count": 39,
   "id": "35cdc188-d586-4dd8-a853-8889f1c9d389",
   "metadata": {},
   "outputs": [
    {
     "name": "stdout",
     "output_type": "stream",
     "text": [
      "Year                                                                       0\n",
      "Region/Country/Area                                                        0\n",
      "Teachers at lower secondary level                                         11\n",
      "Teachers at primary level                                                  0\n",
      "Teachers at upper secondary level                                         11\n",
      "Teachers with minimum required qualifications at lower secondary level    49\n",
      "Teachers with minimum required qualifications at primary level            26\n",
      "Teachers with minimum required qualifications at upper secondary level    57\n",
      "dtype: int64\n"
     ]
    }
   ],
   "source": [
    "null_values = df.isnull().sum()\n",
    "\n",
    "print(null_values)"
   ]
  },
  {
   "cell_type": "code",
   "execution_count": 40,
   "id": "997d8c7c-3220-4685-b687-c26c2bb2604c",
   "metadata": {},
   "outputs": [],
   "source": [
    "# List of columns to check for null values\n",
    "columns_to_check = [\n",
    "    'Teachers at lower secondary level',\n",
    "    'Teachers at primary level',\n",
    "    'Teachers at upper secondary level',\n",
    "    'Teachers with minimum required qualifications at lower secondary level',\n",
    "    'Teachers with minimum required qualifications at primary level',\n",
    "    'Teachers with minimum required qualifications at upper secondary level'\n",
    "]\n",
    "\n",
    "# Drop rows where all values in the specified columns are null\n",
    "df.dropna(subset=columns_to_check, how='all', inplace=True)\n",
    "\n",
    "# Fill remaining null values in the DataFrame with 0\n",
    "df.fillna(0, inplace=True)"
   ]
  },
  {
   "cell_type": "code",
   "execution_count": 41,
   "id": "3d36b069-eaae-495e-a84c-69976bd17c0a",
   "metadata": {},
   "outputs": [
    {
     "data": {
      "text/plain": [
       "(82, 8)"
      ]
     },
     "execution_count": 41,
     "metadata": {},
     "output_type": "execute_result"
    }
   ],
   "source": [
    "df.shape"
   ]
  },
  {
   "cell_type": "code",
   "execution_count": 42,
   "id": "2d2a6ed1-456a-4245-891b-a78121120c2f",
   "metadata": {},
   "outputs": [
    {
     "name": "stdout",
     "output_type": "stream",
     "text": [
      "Final CSV has been saved to: C:\\Users\\Cecilia\\Downloads\\ironhack\\coursework\\Final_Project\\data\\merged\\final\\areas_SYB67_323_202411final_data.csv\n"
     ]
    }
   ],
   "source": [
    "# Define the output folder path\n",
    "output_folder = r\"C:\\Users\\Cecilia\\Downloads\\ironhack\\coursework\\Final_Project\\data\\merged\\final\"\n",
    "\n",
    "# Ensure the directory exists\n",
    "os.makedirs(output_folder, exist_ok=True)\n",
    "\n",
    "# Save the final DataFrame to a CSV file\n",
    "output_path = os.path.join(output_folder, \"areas_SYB67_323_202411final_data.csv\")\n",
    "df.to_csv(output_path, index=False)\n",
    "\n",
    "# Print confirmation message\n",
    "print(f\"Final CSV has been saved to: {output_path}\")"
   ]
  },
  {
   "cell_type": "code",
   "execution_count": null,
   "id": "e18d8c90-0f9c-46bf-8db2-6d9e04d50ee4",
   "metadata": {},
   "outputs": [],
   "source": []
  }
 ],
 "metadata": {
  "kernelspec": {
   "display_name": "venv",
   "language": "python",
   "name": "venv"
  },
  "language_info": {
   "codemirror_mode": {
    "name": "ipython",
    "version": 3
   },
   "file_extension": ".py",
   "mimetype": "text/x-python",
   "name": "python",
   "nbconvert_exporter": "python",
   "pygments_lexer": "ipython3",
   "version": "3.12.4"
  }
 },
 "nbformat": 4,
 "nbformat_minor": 5
}
