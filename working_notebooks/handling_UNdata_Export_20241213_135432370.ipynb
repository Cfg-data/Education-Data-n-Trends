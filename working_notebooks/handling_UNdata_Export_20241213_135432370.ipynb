{
 "cells": [
  {
   "cell_type": "code",
   "execution_count": 1,
   "id": "1b24d070-c302-455e-93ec-57f754c67000",
   "metadata": {},
   "outputs": [],
   "source": [
    "import pandas as pd"
   ]
  },
  {
   "cell_type": "code",
   "execution_count": 3,
   "id": "a6ef099d-647d-4f56-89af-bbda305cf74b",
   "metadata": {},
   "outputs": [
    {
     "data": {
      "text/html": [
       "<div>\n",
       "<style scoped>\n",
       "    .dataframe tbody tr th:only-of-type {\n",
       "        vertical-align: middle;\n",
       "    }\n",
       "\n",
       "    .dataframe tbody tr th {\n",
       "        vertical-align: top;\n",
       "    }\n",
       "\n",
       "    .dataframe thead th {\n",
       "        text-align: right;\n",
       "    }\n",
       "</style>\n",
       "<table border=\"1\" class=\"dataframe\">\n",
       "  <thead>\n",
       "    <tr style=\"text-align: right;\">\n",
       "      <th></th>\n",
       "      <th>Reference Area</th>\n",
       "      <th>Time Period</th>\n",
       "      <th>Sex</th>\n",
       "      <th>Age group</th>\n",
       "      <th>Units of measurement</th>\n",
       "      <th>Observation Value</th>\n",
       "    </tr>\n",
       "  </thead>\n",
       "  <tbody>\n",
       "    <tr>\n",
       "      <th>0</th>\n",
       "      <td>Andorra</td>\n",
       "      <td>2014</td>\n",
       "      <td>All genders</td>\n",
       "      <td>Not applicable</td>\n",
       "      <td>Percent</td>\n",
       "      <td>15.17424</td>\n",
       "    </tr>\n",
       "    <tr>\n",
       "      <th>1</th>\n",
       "      <td>Andorra</td>\n",
       "      <td>2013</td>\n",
       "      <td>All genders</td>\n",
       "      <td>Not applicable</td>\n",
       "      <td>Percent</td>\n",
       "      <td>28.82617</td>\n",
       "    </tr>\n",
       "    <tr>\n",
       "      <th>2</th>\n",
       "      <td>Andorra</td>\n",
       "      <td>2006</td>\n",
       "      <td>All genders</td>\n",
       "      <td>Not applicable</td>\n",
       "      <td>Percent</td>\n",
       "      <td>16.20278</td>\n",
       "    </tr>\n",
       "    <tr>\n",
       "      <th>3</th>\n",
       "      <td>Andorra</td>\n",
       "      <td>2005</td>\n",
       "      <td>All genders</td>\n",
       "      <td>Not applicable</td>\n",
       "      <td>Percent</td>\n",
       "      <td>10.72304</td>\n",
       "    </tr>\n",
       "    <tr>\n",
       "      <th>4</th>\n",
       "      <td>Andorra</td>\n",
       "      <td>2004</td>\n",
       "      <td>All genders</td>\n",
       "      <td>Not applicable</td>\n",
       "      <td>Percent</td>\n",
       "      <td>10.13425</td>\n",
       "    </tr>\n",
       "  </tbody>\n",
       "</table>\n",
       "</div>"
      ],
      "text/plain": [
       "  Reference Area  Time Period          Sex       Age group  \\\n",
       "0        Andorra         2014  All genders  Not applicable   \n",
       "1        Andorra         2013  All genders  Not applicable   \n",
       "2        Andorra         2006  All genders  Not applicable   \n",
       "3        Andorra         2005  All genders  Not applicable   \n",
       "4        Andorra         2004  All genders  Not applicable   \n",
       "\n",
       "  Units of measurement  Observation Value  \n",
       "0              Percent           15.17424  \n",
       "1              Percent           28.82617  \n",
       "2              Percent           16.20278  \n",
       "3              Percent           10.72304  \n",
       "4              Percent           10.13425  "
      ]
     },
     "execution_count": 3,
     "metadata": {},
     "output_type": "execute_result"
    }
   ],
   "source": [
    "url = \"https://raw.githubusercontent.com/Cfg-data/final-project/refs/heads/master/data/raw/goverment_expenditure/UNdata_Export_20241213_135432370.csv\"\n",
    "\n",
    "# Load the CSV file into a pandas DataFrame\n",
    "df = pd.read_csv(url)\n",
    "\n",
    "# Display the first few rows of the dataframe\n",
    "df.head()"
   ]
  },
  {
   "cell_type": "code",
   "execution_count": 4,
   "id": "78c2fc9a-61ef-49bb-a627-bade0fe3f260",
   "metadata": {},
   "outputs": [
    {
     "data": {
      "text/plain": [
       "(702, 6)"
      ]
     },
     "execution_count": 4,
     "metadata": {},
     "output_type": "execute_result"
    }
   ],
   "source": [
    "df.shape"
   ]
  },
  {
   "cell_type": "code",
   "execution_count": 5,
   "id": "12d01b30-971f-43c5-8efb-17704533b9d3",
   "metadata": {},
   "outputs": [
    {
     "name": "stdout",
     "output_type": "stream",
     "text": [
      "Reference Area          0\n",
      "Time Period             0\n",
      "Sex                     0\n",
      "Age group               0\n",
      "Units of measurement    0\n",
      "Observation Value       0\n",
      "dtype: int64\n"
     ]
    }
   ],
   "source": [
    "null_values = df.isnull().sum()\n",
    "\n",
    "print(null_values)"
   ]
  },
  {
   "cell_type": "code",
   "execution_count": 6,
   "id": "02788b65-0630-406c-aac7-cbeb6773e586",
   "metadata": {},
   "outputs": [
    {
     "data": {
      "text/html": [
       "<div>\n",
       "<style scoped>\n",
       "    .dataframe tbody tr th:only-of-type {\n",
       "        vertical-align: middle;\n",
       "    }\n",
       "\n",
       "    .dataframe tbody tr th {\n",
       "        vertical-align: top;\n",
       "    }\n",
       "\n",
       "    .dataframe thead th {\n",
       "        text-align: right;\n",
       "    }\n",
       "</style>\n",
       "<table border=\"1\" class=\"dataframe\">\n",
       "  <thead>\n",
       "    <tr style=\"text-align: right;\">\n",
       "      <th></th>\n",
       "      <th>Reference Area</th>\n",
       "      <th>Time Period</th>\n",
       "      <th>Sex</th>\n",
       "      <th>Units of measurement</th>\n",
       "      <th>Observation Value</th>\n",
       "    </tr>\n",
       "  </thead>\n",
       "  <tbody>\n",
       "    <tr>\n",
       "      <th>0</th>\n",
       "      <td>Andorra</td>\n",
       "      <td>2014</td>\n",
       "      <td>All genders</td>\n",
       "      <td>Percent</td>\n",
       "      <td>15.17424</td>\n",
       "    </tr>\n",
       "    <tr>\n",
       "      <th>1</th>\n",
       "      <td>Andorra</td>\n",
       "      <td>2013</td>\n",
       "      <td>All genders</td>\n",
       "      <td>Percent</td>\n",
       "      <td>28.82617</td>\n",
       "    </tr>\n",
       "    <tr>\n",
       "      <th>2</th>\n",
       "      <td>Andorra</td>\n",
       "      <td>2006</td>\n",
       "      <td>All genders</td>\n",
       "      <td>Percent</td>\n",
       "      <td>16.20278</td>\n",
       "    </tr>\n",
       "    <tr>\n",
       "      <th>3</th>\n",
       "      <td>Andorra</td>\n",
       "      <td>2005</td>\n",
       "      <td>All genders</td>\n",
       "      <td>Percent</td>\n",
       "      <td>10.72304</td>\n",
       "    </tr>\n",
       "    <tr>\n",
       "      <th>4</th>\n",
       "      <td>Andorra</td>\n",
       "      <td>2004</td>\n",
       "      <td>All genders</td>\n",
       "      <td>Percent</td>\n",
       "      <td>10.13425</td>\n",
       "    </tr>\n",
       "  </tbody>\n",
       "</table>\n",
       "</div>"
      ],
      "text/plain": [
       "  Reference Area  Time Period          Sex Units of measurement  \\\n",
       "0        Andorra         2014  All genders              Percent   \n",
       "1        Andorra         2013  All genders              Percent   \n",
       "2        Andorra         2006  All genders              Percent   \n",
       "3        Andorra         2005  All genders              Percent   \n",
       "4        Andorra         2004  All genders              Percent   \n",
       "\n",
       "   Observation Value  \n",
       "0           15.17424  \n",
       "1           28.82617  \n",
       "2           16.20278  \n",
       "3           10.72304  \n",
       "4           10.13425  "
      ]
     },
     "execution_count": 6,
     "metadata": {},
     "output_type": "execute_result"
    }
   ],
   "source": [
    "df = df.drop(columns=['Age group'])\n",
    "\n",
    "df.head()"
   ]
  },
  {
   "cell_type": "code",
   "execution_count": null,
   "id": "a775f5da-972d-468d-be16-f28ba85763db",
   "metadata": {},
   "outputs": [],
   "source": []
  }
 ],
 "metadata": {
  "kernelspec": {
   "display_name": "venv",
   "language": "python",
   "name": "venv"
  },
  "language_info": {
   "codemirror_mode": {
    "name": "ipython",
    "version": 3
   },
   "file_extension": ".py",
   "mimetype": "text/x-python",
   "name": "python",
   "nbconvert_exporter": "python",
   "pygments_lexer": "ipython3",
   "version": "3.12.4"
  }
 },
 "nbformat": 4,
 "nbformat_minor": 5
}
