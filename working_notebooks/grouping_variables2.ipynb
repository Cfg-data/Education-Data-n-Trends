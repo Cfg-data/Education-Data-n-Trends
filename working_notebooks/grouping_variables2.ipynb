{
 "cells": [
  {
   "cell_type": "code",
   "execution_count": 7,
   "id": "7cd7b9e9-ffbc-4190-b72b-f93cd688a17a",
   "metadata": {},
   "outputs": [],
   "source": [
    "import pandas as pd\n",
    "import os"
   ]
  },
  {
   "cell_type": "code",
   "execution_count": 14,
   "id": "592f1ca0-587b-413f-8b57-7e0c78294b69",
   "metadata": {},
   "outputs": [],
   "source": [
    "# Define the output folder for saving CSV files\n",
    "output_folder = r\"C:\\Users\\Cecilia\\Downloads\\ironhack\\coursework\\Final_Project\\data\\merged\\yearsvars\"\n",
    "os.makedirs(output_folder, exist_ok=True)"
   ]
  },
  {
   "cell_type": "code",
   "execution_count": 15,
   "id": "2a8f1971-da3c-43ab-ace4-87df5b1211f8",
   "metadata": {},
   "outputs": [],
   "source": [
    "# Load the CSV files for dfa, dfb, and dfc\n",
    "dfa_url = \"https://raw.githubusercontent.com/Cfg-data/final-project/refs/heads/master/data/merged/year_filtered_areas_SYB67_309_202411.csv\"\n",
    "dfb_url = \"https://raw.githubusercontent.com/Cfg-data/final-project/refs/heads/master/data/merged/year_filtered_areas_SYB67_319_202411.csv\"\n",
    "dfc_url = \"https://raw.githubusercontent.com/Cfg-data/final-project/refs/heads/master/data/merged/year_filtered_areas_SYB67_323_202411.csv\"\n",
    "\n",
    "dfa = pd.read_csv(dfa_url)\n",
    "dfb = pd.read_csv(dfb_url)\n",
    "dfc = pd.read_csv(dfc_url)"
   ]
  },
  {
   "cell_type": "code",
   "execution_count": 18,
   "id": "c5a47ed8-1f66-44f1-bc72-0014a97af50f",
   "metadata": {},
   "outputs": [],
   "source": [
    "def process_and_save(df, variables, value_column, output_filename):\n",
    "    # Make sure the 'value_column' is numeric\n",
    "    df[value_column] = pd.to_numeric(df[value_column], errors='coerce')  # Convert non-numeric to NaN\n",
    "\n",
    "    # Fill NaN values with 0 (or any value you prefer)\n",
    "    df[value_column] = df[value_column].fillna(0)\n",
    "\n",
    "    # Filter the data for relevant variables\n",
    "    df_filtered = df[df['Variables'].isin(variables)]\n",
    "\n",
    "    # Pivot the filtered data to have 'Variables' as columns\n",
    "    df_pivoted = df_filtered.pivot_table(\n",
    "        index=['Year', 'Region/Country/Area'],\n",
    "        columns='Variables',\n",
    "        values=value_column,\n",
    "        aggfunc='mean'  # Or another aggregation function, if necessary\n",
    "    )\n",
    "    # Save the pivoted DataFrame to a CSV file\n",
    "    output_folder = r\"C:\\Users\\Cecilia\\Downloads\\ironhack\\coursework\\Final_Project\\data\\merged\\yearsvars\"\n",
    "    os.makedirs(output_folder, exist_ok=True)\n",
    "    df_pivoted.to_csv(os.path.join(output_folder, output_filename))"
   ]
  },
  {
   "cell_type": "code",
   "execution_count": 19,
   "id": "5c7c2c2e-64a6-4539-98c1-ebcda3dc235e",
   "metadata": {},
   "outputs": [],
   "source": [
    "variables_dfa = [\n",
    "    'Students enrolled in primary education (thousands)',\n",
    "    'Gross enrollment ratio - Primary (male)',\n",
    "    'Gross enrollment ratio - Primary (female)',\n",
    "    'Students enrolled in lower secondary education (thousands)',\n",
    "    'Gross enrollment ratio - Lower secondary level (male)',\n",
    "    'Gross enrollment ratio - Lower secondary level (female)',\n",
    "    'Students enrolled in upper secondary education (thousands)',\n",
    "    'Gross enrollment ratio - Upper secondary level (male)',\n",
    "    'Gross enrollment ratio - Upper secondary level (female)'\n",
    "]\n",
    "value_column_dfa = 'Enrollment in primary, lower secondary and upper secondary education levels'\n",
    "\n",
    "process_and_save(dfa, variables_dfa, value_column_dfa, \"dfa_grouped_pivoted.csv\")\n",
    "\n",
    "variables_dfb = [\n",
    "    'Ratio of girls to boys in primary education',\n",
    "    'Ratio of girls to boys in lower secondary education',\n",
    "    'Ratio of girls to boys in upper secondary education'\n",
    "]\n",
    "value_column_dfb = 'Ratio of girls to boys in primary, lower secondary and upper secondary education'\n",
    "\n",
    "process_and_save(dfb, variables_dfb, value_column_dfb, \"dfb_grouped_pivoted.csv\")\n",
    "\n",
    "variables_dfc = [\n",
    "    'Teachers at primary level',\n",
    "    'Teachers at lower secondary level',\n",
    "    'Teachers at upper secondary level',\n",
    "    'Teachers with minimum required qualifications at primary level',\n",
    "    'Teachers with minimum required qualifications at lower secondary level',\n",
    "    'Teachers with minimum required qualifications at upper secondary level'\n",
    "]\n",
    "value_column_dfc = 'Teaching staff at the primary, lower secondary and upper secondary levels'\n",
    "\n",
    "process_and_save(dfc, variables_dfc, value_column_dfc, \"dfc_grouped_pivoted.csv\")"
   ]
  },
  {
   "cell_type": "code",
   "execution_count": 20,
   "id": "2abba5df-bc65-428b-ab7c-9c55c88e50cb",
   "metadata": {},
   "outputs": [
    {
     "name": "stdout",
     "output_type": "stream",
     "text": [
      "\n",
      "Pivoted DataFrames for dfa, dfb, and dfc saved as CSVs in the specified directory.\n"
     ]
    }
   ],
   "source": [
    "# Print final confirmation message\n",
    "print(\"\\nPivoted DataFrames for dfa, dfb, and dfc saved as CSVs in the specified directory.\")"
   ]
  },
  {
   "cell_type": "code",
   "execution_count": null,
   "id": "fdeaf3c0-ca8d-4b30-aa4a-e23396fb5c9b",
   "metadata": {},
   "outputs": [],
   "source": []
  }
 ],
 "metadata": {
  "kernelspec": {
   "display_name": "Python 3 (ipykernel)",
   "language": "python",
   "name": "python3"
  },
  "language_info": {
   "codemirror_mode": {
    "name": "ipython",
    "version": 3
   },
   "file_extension": ".py",
   "mimetype": "text/x-python",
   "name": "python",
   "nbconvert_exporter": "python",
   "pygments_lexer": "ipython3",
   "version": "3.12.4"
  }
 },
 "nbformat": 4,
 "nbformat_minor": 5
}
