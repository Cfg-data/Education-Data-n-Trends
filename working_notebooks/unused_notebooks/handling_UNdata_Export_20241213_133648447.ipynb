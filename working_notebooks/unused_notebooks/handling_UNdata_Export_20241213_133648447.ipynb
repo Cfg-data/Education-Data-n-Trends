{
 "cells": [
  {
   "cell_type": "code",
   "execution_count": 1,
   "id": "d0756dc3-9519-462a-8cd2-ee86bb85d167",
   "metadata": {},
   "outputs": [],
   "source": [
    "import pandas as pd"
   ]
  },
  {
   "cell_type": "code",
   "execution_count": 2,
   "id": "675cc03a-de67-4005-812b-a44b97a72a4b",
   "metadata": {},
   "outputs": [
    {
     "data": {
      "text/html": [
       "<div>\n",
       "<style scoped>\n",
       "    .dataframe tbody tr th:only-of-type {\n",
       "        vertical-align: middle;\n",
       "    }\n",
       "\n",
       "    .dataframe tbody tr th {\n",
       "        vertical-align: top;\n",
       "    }\n",
       "\n",
       "    .dataframe thead th {\n",
       "        text-align: right;\n",
       "    }\n",
       "</style>\n",
       "<table border=\"1\" class=\"dataframe\">\n",
       "  <thead>\n",
       "    <tr style=\"text-align: right;\">\n",
       "      <th></th>\n",
       "      <th>Reference Area</th>\n",
       "      <th>Time Period</th>\n",
       "      <th>Sex</th>\n",
       "      <th>Age group</th>\n",
       "      <th>Units of measurement</th>\n",
       "      <th>Observation Value</th>\n",
       "    </tr>\n",
       "  </thead>\n",
       "  <tbody>\n",
       "    <tr>\n",
       "      <th>0</th>\n",
       "      <td>Afghanistan</td>\n",
       "      <td>2014</td>\n",
       "      <td>All genders</td>\n",
       "      <td>Not applicable</td>\n",
       "      <td>Number</td>\n",
       "      <td>2602734.0</td>\n",
       "    </tr>\n",
       "    <tr>\n",
       "      <th>1</th>\n",
       "      <td>Afghanistan</td>\n",
       "      <td>2014</td>\n",
       "      <td>Female</td>\n",
       "      <td>Not applicable</td>\n",
       "      <td>Number</td>\n",
       "      <td>901106.0</td>\n",
       "    </tr>\n",
       "    <tr>\n",
       "      <th>2</th>\n",
       "      <td>Afghanistan</td>\n",
       "      <td>2013</td>\n",
       "      <td>Female</td>\n",
       "      <td>Not applicable</td>\n",
       "      <td>Number</td>\n",
       "      <td>874199.0</td>\n",
       "    </tr>\n",
       "    <tr>\n",
       "      <th>3</th>\n",
       "      <td>Afghanistan</td>\n",
       "      <td>2013</td>\n",
       "      <td>All genders</td>\n",
       "      <td>Not applicable</td>\n",
       "      <td>Number</td>\n",
       "      <td>2538420.0</td>\n",
       "    </tr>\n",
       "    <tr>\n",
       "      <th>4</th>\n",
       "      <td>Afghanistan</td>\n",
       "      <td>2012</td>\n",
       "      <td>All genders</td>\n",
       "      <td>Not applicable</td>\n",
       "      <td>Number</td>\n",
       "      <td>2415884.0</td>\n",
       "    </tr>\n",
       "  </tbody>\n",
       "</table>\n",
       "</div>"
      ],
      "text/plain": [
       "  Reference Area  Time Period          Sex       Age group  \\\n",
       "0    Afghanistan         2014  All genders  Not applicable   \n",
       "1    Afghanistan         2014       Female  Not applicable   \n",
       "2    Afghanistan         2013       Female  Not applicable   \n",
       "3    Afghanistan         2013  All genders  Not applicable   \n",
       "4    Afghanistan         2012  All genders  Not applicable   \n",
       "\n",
       "  Units of measurement  Observation Value  \n",
       "0               Number          2602734.0  \n",
       "1               Number           901106.0  \n",
       "2               Number           874199.0  \n",
       "3               Number          2538420.0  \n",
       "4               Number          2415884.0  "
      ]
     },
     "execution_count": 2,
     "metadata": {},
     "output_type": "execute_result"
    }
   ],
   "source": [
    "url = \"https://raw.githubusercontent.com/Cfg-data/final-project/refs/heads/master/data/raw/enrollment_data/UNdata_Export_20241213_133648447.csv\"\n",
    "\n",
    "# Load the CSV file into a pandas DataFrame\n",
    "df = pd.read_csv(url)\n",
    "\n",
    "# Display the first few rows of the dataframe\n",
    "df.head()"
   ]
  },
  {
   "cell_type": "code",
   "execution_count": 3,
   "id": "9582f280-69c9-4280-a75b-508d67585c80",
   "metadata": {},
   "outputs": [
    {
     "data": {
      "text/plain": [
       "(12876, 6)"
      ]
     },
     "execution_count": 3,
     "metadata": {},
     "output_type": "execute_result"
    }
   ],
   "source": [
    "df.shape"
   ]
  },
  {
   "cell_type": "code",
   "execution_count": 4,
   "id": "64b89fb2-3c43-4e5e-8950-64fb61bd5bdf",
   "metadata": {},
   "outputs": [
    {
     "name": "stdout",
     "output_type": "stream",
     "text": [
      "Reference Area          0\n",
      "Time Period             0\n",
      "Sex                     0\n",
      "Age group               0\n",
      "Units of measurement    0\n",
      "Observation Value       0\n",
      "dtype: int64\n"
     ]
    }
   ],
   "source": [
    "null_values = df.isnull().sum()\n",
    "\n",
    "print(null_values)"
   ]
  },
  {
   "cell_type": "code",
   "execution_count": 5,
   "id": "4f533955-d907-4932-b98a-10a52896fb02",
   "metadata": {},
   "outputs": [
    {
     "data": {
      "text/html": [
       "<div>\n",
       "<style scoped>\n",
       "    .dataframe tbody tr th:only-of-type {\n",
       "        vertical-align: middle;\n",
       "    }\n",
       "\n",
       "    .dataframe tbody tr th {\n",
       "        vertical-align: top;\n",
       "    }\n",
       "\n",
       "    .dataframe thead th {\n",
       "        text-align: right;\n",
       "    }\n",
       "</style>\n",
       "<table border=\"1\" class=\"dataframe\">\n",
       "  <thead>\n",
       "    <tr style=\"text-align: right;\">\n",
       "      <th></th>\n",
       "      <th>Reference Area</th>\n",
       "      <th>Time Period</th>\n",
       "      <th>Sex</th>\n",
       "      <th>Units of measurement</th>\n",
       "      <th>Observation Value</th>\n",
       "    </tr>\n",
       "  </thead>\n",
       "  <tbody>\n",
       "    <tr>\n",
       "      <th>0</th>\n",
       "      <td>Afghanistan</td>\n",
       "      <td>2014</td>\n",
       "      <td>All genders</td>\n",
       "      <td>Number</td>\n",
       "      <td>2602734.0</td>\n",
       "    </tr>\n",
       "    <tr>\n",
       "      <th>1</th>\n",
       "      <td>Afghanistan</td>\n",
       "      <td>2014</td>\n",
       "      <td>Female</td>\n",
       "      <td>Number</td>\n",
       "      <td>901106.0</td>\n",
       "    </tr>\n",
       "    <tr>\n",
       "      <th>2</th>\n",
       "      <td>Afghanistan</td>\n",
       "      <td>2013</td>\n",
       "      <td>Female</td>\n",
       "      <td>Number</td>\n",
       "      <td>874199.0</td>\n",
       "    </tr>\n",
       "    <tr>\n",
       "      <th>3</th>\n",
       "      <td>Afghanistan</td>\n",
       "      <td>2013</td>\n",
       "      <td>All genders</td>\n",
       "      <td>Number</td>\n",
       "      <td>2538420.0</td>\n",
       "    </tr>\n",
       "    <tr>\n",
       "      <th>4</th>\n",
       "      <td>Afghanistan</td>\n",
       "      <td>2012</td>\n",
       "      <td>All genders</td>\n",
       "      <td>Number</td>\n",
       "      <td>2415884.0</td>\n",
       "    </tr>\n",
       "  </tbody>\n",
       "</table>\n",
       "</div>"
      ],
      "text/plain": [
       "  Reference Area  Time Period          Sex Units of measurement  \\\n",
       "0    Afghanistan         2014  All genders               Number   \n",
       "1    Afghanistan         2014       Female               Number   \n",
       "2    Afghanistan         2013       Female               Number   \n",
       "3    Afghanistan         2013  All genders               Number   \n",
       "4    Afghanistan         2012  All genders               Number   \n",
       "\n",
       "   Observation Value  \n",
       "0          2602734.0  \n",
       "1           901106.0  \n",
       "2           874199.0  \n",
       "3          2538420.0  \n",
       "4          2415884.0  "
      ]
     },
     "execution_count": 5,
     "metadata": {},
     "output_type": "execute_result"
    }
   ],
   "source": [
    "df = df.drop(columns=['Age group'])\n",
    "\n",
    "df.head()"
   ]
  },
  {
   "cell_type": "code",
   "execution_count": null,
   "id": "812e203a-caf0-411c-8ca5-06f72bc79aea",
   "metadata": {},
   "outputs": [],
   "source": []
  }
 ],
 "metadata": {
  "kernelspec": {
   "display_name": "venv",
   "language": "python",
   "name": "venv"
  },
  "language_info": {
   "codemirror_mode": {
    "name": "ipython",
    "version": 3
   },
   "file_extension": ".py",
   "mimetype": "text/x-python",
   "name": "python",
   "nbconvert_exporter": "python",
   "pygments_lexer": "ipython3",
   "version": "3.12.4"
  }
 },
 "nbformat": 4,
 "nbformat_minor": 5
}
