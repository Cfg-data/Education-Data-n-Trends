{
 "cells": [
  {
   "cell_type": "code",
   "execution_count": 1,
   "id": "e59a6473-9a5d-4a1f-9185-e1d99bf0f717",
   "metadata": {},
   "outputs": [],
   "source": [
    "import pandas as pd"
   ]
  },
  {
   "cell_type": "code",
   "execution_count": 2,
   "id": "f8ddbc69-eff4-4447-9761-4d83a27e4044",
   "metadata": {},
   "outputs": [
    {
     "data": {
      "text/html": [
       "<div>\n",
       "<style scoped>\n",
       "    .dataframe tbody tr th:only-of-type {\n",
       "        vertical-align: middle;\n",
       "    }\n",
       "\n",
       "    .dataframe tbody tr th {\n",
       "        vertical-align: top;\n",
       "    }\n",
       "\n",
       "    .dataframe thead th {\n",
       "        text-align: right;\n",
       "    }\n",
       "</style>\n",
       "<table border=\"1\" class=\"dataframe\">\n",
       "  <thead>\n",
       "    <tr style=\"text-align: right;\">\n",
       "      <th></th>\n",
       "      <th>Reference Area</th>\n",
       "      <th>Time Period</th>\n",
       "      <th>Sex</th>\n",
       "      <th>Age group</th>\n",
       "      <th>Units of measurement</th>\n",
       "      <th>Observation Value</th>\n",
       "    </tr>\n",
       "  </thead>\n",
       "  <tbody>\n",
       "    <tr>\n",
       "      <th>0</th>\n",
       "      <td>Afghanistan</td>\n",
       "      <td>2014</td>\n",
       "      <td>All genders</td>\n",
       "      <td>Not applicable</td>\n",
       "      <td>Number</td>\n",
       "      <td>1633965.0</td>\n",
       "    </tr>\n",
       "    <tr>\n",
       "      <th>1</th>\n",
       "      <td>Afghanistan</td>\n",
       "      <td>2014</td>\n",
       "      <td>Female</td>\n",
       "      <td>Not applicable</td>\n",
       "      <td>Number</td>\n",
       "      <td>583665.0</td>\n",
       "    </tr>\n",
       "    <tr>\n",
       "      <th>2</th>\n",
       "      <td>Afghanistan</td>\n",
       "      <td>2013</td>\n",
       "      <td>Female</td>\n",
       "      <td>Not applicable</td>\n",
       "      <td>Number</td>\n",
       "      <td>553167.0</td>\n",
       "    </tr>\n",
       "    <tr>\n",
       "      <th>3</th>\n",
       "      <td>Afghanistan</td>\n",
       "      <td>2013</td>\n",
       "      <td>All genders</td>\n",
       "      <td>Not applicable</td>\n",
       "      <td>Number</td>\n",
       "      <td>1569153.0</td>\n",
       "    </tr>\n",
       "    <tr>\n",
       "      <th>4</th>\n",
       "      <td>Afghanistan</td>\n",
       "      <td>2012</td>\n",
       "      <td>All genders</td>\n",
       "      <td>Not applicable</td>\n",
       "      <td>Number</td>\n",
       "      <td>1534469.0</td>\n",
       "    </tr>\n",
       "  </tbody>\n",
       "</table>\n",
       "</div>"
      ],
      "text/plain": [
       "  Reference Area  Time Period          Sex       Age group  \\\n",
       "0    Afghanistan         2014  All genders  Not applicable   \n",
       "1    Afghanistan         2014       Female  Not applicable   \n",
       "2    Afghanistan         2013       Female  Not applicable   \n",
       "3    Afghanistan         2013  All genders  Not applicable   \n",
       "4    Afghanistan         2012  All genders  Not applicable   \n",
       "\n",
       "  Units of measurement  Observation Value  \n",
       "0               Number          1633965.0  \n",
       "1               Number           583665.0  \n",
       "2               Number           553167.0  \n",
       "3               Number          1569153.0  \n",
       "4               Number          1534469.0  "
      ]
     },
     "execution_count": 2,
     "metadata": {},
     "output_type": "execute_result"
    }
   ],
   "source": [
    "url = \"https://raw.githubusercontent.com/Cfg-data/final-project/refs/heads/master/data/raw/enrollment_data/UNdata_Export_20241213_133640358.csv\"\n",
    "\n",
    "# Load the CSV file into a pandas DataFrame\n",
    "df = pd.read_csv(url)\n",
    "\n",
    "# Display the first few rows of the dataframe\n",
    "df.head()"
   ]
  },
  {
   "cell_type": "code",
   "execution_count": 3,
   "id": "fe7aa49c-533b-4e4d-b875-f7a72e9fb0f9",
   "metadata": {},
   "outputs": [
    {
     "data": {
      "text/plain": [
       "(5891, 6)"
      ]
     },
     "execution_count": 3,
     "metadata": {},
     "output_type": "execute_result"
    }
   ],
   "source": [
    "df.shape"
   ]
  },
  {
   "cell_type": "code",
   "execution_count": 4,
   "id": "706fe8e0-e19d-4f96-949b-5df040ab4d04",
   "metadata": {},
   "outputs": [
    {
     "name": "stdout",
     "output_type": "stream",
     "text": [
      "Reference Area          0\n",
      "Time Period             0\n",
      "Sex                     0\n",
      "Age group               0\n",
      "Units of measurement    0\n",
      "Observation Value       0\n",
      "dtype: int64\n"
     ]
    }
   ],
   "source": [
    "null_values = df.isnull().sum()\n",
    "\n",
    "print(null_values)"
   ]
  },
  {
   "cell_type": "code",
   "execution_count": 5,
   "id": "34ade423-4962-47d9-9cb4-cee46f022104",
   "metadata": {},
   "outputs": [
    {
     "data": {
      "text/html": [
       "<div>\n",
       "<style scoped>\n",
       "    .dataframe tbody tr th:only-of-type {\n",
       "        vertical-align: middle;\n",
       "    }\n",
       "\n",
       "    .dataframe tbody tr th {\n",
       "        vertical-align: top;\n",
       "    }\n",
       "\n",
       "    .dataframe thead th {\n",
       "        text-align: right;\n",
       "    }\n",
       "</style>\n",
       "<table border=\"1\" class=\"dataframe\">\n",
       "  <thead>\n",
       "    <tr style=\"text-align: right;\">\n",
       "      <th></th>\n",
       "      <th>Reference Area</th>\n",
       "      <th>Time Period</th>\n",
       "      <th>Sex</th>\n",
       "      <th>Units of measurement</th>\n",
       "      <th>Observation Value</th>\n",
       "    </tr>\n",
       "  </thead>\n",
       "  <tbody>\n",
       "    <tr>\n",
       "      <th>0</th>\n",
       "      <td>Afghanistan</td>\n",
       "      <td>2014</td>\n",
       "      <td>All genders</td>\n",
       "      <td>Number</td>\n",
       "      <td>1633965.0</td>\n",
       "    </tr>\n",
       "    <tr>\n",
       "      <th>1</th>\n",
       "      <td>Afghanistan</td>\n",
       "      <td>2014</td>\n",
       "      <td>Female</td>\n",
       "      <td>Number</td>\n",
       "      <td>583665.0</td>\n",
       "    </tr>\n",
       "    <tr>\n",
       "      <th>2</th>\n",
       "      <td>Afghanistan</td>\n",
       "      <td>2013</td>\n",
       "      <td>Female</td>\n",
       "      <td>Number</td>\n",
       "      <td>553167.0</td>\n",
       "    </tr>\n",
       "    <tr>\n",
       "      <th>3</th>\n",
       "      <td>Afghanistan</td>\n",
       "      <td>2013</td>\n",
       "      <td>All genders</td>\n",
       "      <td>Number</td>\n",
       "      <td>1569153.0</td>\n",
       "    </tr>\n",
       "    <tr>\n",
       "      <th>4</th>\n",
       "      <td>Afghanistan</td>\n",
       "      <td>2012</td>\n",
       "      <td>All genders</td>\n",
       "      <td>Number</td>\n",
       "      <td>1534469.0</td>\n",
       "    </tr>\n",
       "  </tbody>\n",
       "</table>\n",
       "</div>"
      ],
      "text/plain": [
       "  Reference Area  Time Period          Sex Units of measurement  \\\n",
       "0    Afghanistan         2014  All genders               Number   \n",
       "1    Afghanistan         2014       Female               Number   \n",
       "2    Afghanistan         2013       Female               Number   \n",
       "3    Afghanistan         2013  All genders               Number   \n",
       "4    Afghanistan         2012  All genders               Number   \n",
       "\n",
       "   Observation Value  \n",
       "0          1633965.0  \n",
       "1           583665.0  \n",
       "2           553167.0  \n",
       "3          1569153.0  \n",
       "4          1534469.0  "
      ]
     },
     "execution_count": 5,
     "metadata": {},
     "output_type": "execute_result"
    }
   ],
   "source": [
    "df = df.drop(columns=['Age group'])\n",
    "\n",
    "df.head()"
   ]
  },
  {
   "cell_type": "code",
   "execution_count": null,
   "id": "0cf4881a-ce23-44cb-a99a-c3cc0d1448af",
   "metadata": {},
   "outputs": [],
   "source": []
  }
 ],
 "metadata": {
  "kernelspec": {
   "display_name": "venv",
   "language": "python",
   "name": "venv"
  },
  "language_info": {
   "codemirror_mode": {
    "name": "ipython",
    "version": 3
   },
   "file_extension": ".py",
   "mimetype": "text/x-python",
   "name": "python",
   "nbconvert_exporter": "python",
   "pygments_lexer": "ipython3",
   "version": "3.12.4"
  }
 },
 "nbformat": 4,
 "nbformat_minor": 5
}
