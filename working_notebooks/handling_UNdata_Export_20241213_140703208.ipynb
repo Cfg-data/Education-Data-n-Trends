{
 "cells": [
  {
   "cell_type": "code",
   "execution_count": 1,
   "id": "6540aa52-6ff0-4147-b5c2-b61193d001c0",
   "metadata": {},
   "outputs": [],
   "source": [
    "import pandas as pd"
   ]
  },
  {
   "cell_type": "code",
   "execution_count": 2,
   "id": "b9c7a88e-6144-4635-bd01-90361859b5d7",
   "metadata": {},
   "outputs": [
    {
     "data": {
      "text/html": [
       "<div>\n",
       "<style scoped>\n",
       "    .dataframe tbody tr th:only-of-type {\n",
       "        vertical-align: middle;\n",
       "    }\n",
       "\n",
       "    .dataframe tbody tr th {\n",
       "        vertical-align: top;\n",
       "    }\n",
       "\n",
       "    .dataframe thead th {\n",
       "        text-align: right;\n",
       "    }\n",
       "</style>\n",
       "<table border=\"1\" class=\"dataframe\">\n",
       "  <thead>\n",
       "    <tr style=\"text-align: right;\">\n",
       "      <th></th>\n",
       "      <th>Reference Area</th>\n",
       "      <th>Time Period</th>\n",
       "      <th>Sex</th>\n",
       "      <th>Age group</th>\n",
       "      <th>Units of measurement</th>\n",
       "      <th>Observation Value</th>\n",
       "    </tr>\n",
       "  </thead>\n",
       "  <tbody>\n",
       "    <tr>\n",
       "      <th>0</th>\n",
       "      <td>Afghanistan</td>\n",
       "      <td>2015</td>\n",
       "      <td>Female</td>\n",
       "      <td>15-24 year olds</td>\n",
       "      <td>Percent</td>\n",
       "      <td>46.105990</td>\n",
       "    </tr>\n",
       "    <tr>\n",
       "      <th>1</th>\n",
       "      <td>Afghanistan</td>\n",
       "      <td>2015</td>\n",
       "      <td>Male</td>\n",
       "      <td>15-24 year olds</td>\n",
       "      <td>Percent</td>\n",
       "      <td>69.420520</td>\n",
       "    </tr>\n",
       "    <tr>\n",
       "      <th>2</th>\n",
       "      <td>Afghanistan</td>\n",
       "      <td>2015</td>\n",
       "      <td>All genders</td>\n",
       "      <td>15-24 year olds</td>\n",
       "      <td>Percent</td>\n",
       "      <td>58.154900</td>\n",
       "    </tr>\n",
       "    <tr>\n",
       "      <th>3</th>\n",
       "      <td>Afghanistan</td>\n",
       "      <td>2011</td>\n",
       "      <td>All genders</td>\n",
       "      <td>15-24 year olds</td>\n",
       "      <td>Percent</td>\n",
       "      <td>46.990051</td>\n",
       "    </tr>\n",
       "    <tr>\n",
       "      <th>4</th>\n",
       "      <td>Afghanistan</td>\n",
       "      <td>2011</td>\n",
       "      <td>Male</td>\n",
       "      <td>15-24 year olds</td>\n",
       "      <td>Percent</td>\n",
       "      <td>61.879069</td>\n",
       "    </tr>\n",
       "  </tbody>\n",
       "</table>\n",
       "</div>"
      ],
      "text/plain": [
       "  Reference Area  Time Period          Sex        Age group  \\\n",
       "0    Afghanistan         2015       Female  15-24 year olds   \n",
       "1    Afghanistan         2015         Male  15-24 year olds   \n",
       "2    Afghanistan         2015  All genders  15-24 year olds   \n",
       "3    Afghanistan         2011  All genders  15-24 year olds   \n",
       "4    Afghanistan         2011         Male  15-24 year olds   \n",
       "\n",
       "  Units of measurement  Observation Value  \n",
       "0              Percent          46.105990  \n",
       "1              Percent          69.420520  \n",
       "2              Percent          58.154900  \n",
       "3              Percent          46.990051  \n",
       "4              Percent          61.879069  "
      ]
     },
     "execution_count": 2,
     "metadata": {},
     "output_type": "execute_result"
    }
   ],
   "source": [
    "url = \"https://raw.githubusercontent.com/Cfg-data/final-project/refs/heads/master/data/raw/literacy_rates/UNdata_Export_20241213_140703208.csv\"\n",
    "\n",
    "# Load the CSV file into a pandas DataFrame\n",
    "df = pd.read_csv(url)\n",
    "\n",
    "# Display the first few rows of the dataframe\n",
    "df.head()"
   ]
  },
  {
   "cell_type": "code",
   "execution_count": 3,
   "id": "a877ca3c-ec36-4dcb-b05d-ed4bbdbfc0b1",
   "metadata": {},
   "outputs": [
    {
     "data": {
      "text/plain": [
       "(4010, 6)"
      ]
     },
     "execution_count": 3,
     "metadata": {},
     "output_type": "execute_result"
    }
   ],
   "source": [
    "df.shape"
   ]
  },
  {
   "cell_type": "code",
   "execution_count": 4,
   "id": "2b18701c-4f37-477e-ad7b-97c588209373",
   "metadata": {},
   "outputs": [
    {
     "name": "stdout",
     "output_type": "stream",
     "text": [
      "Reference Area          0\n",
      "Time Period             0\n",
      "Sex                     0\n",
      "Age group               0\n",
      "Units of measurement    0\n",
      "Observation Value       0\n",
      "dtype: int64\n"
     ]
    }
   ],
   "source": [
    "null_values = df.isnull().sum()\n",
    "\n",
    "print(null_values)"
   ]
  },
  {
   "cell_type": "code",
   "execution_count": null,
   "id": "c444a73a-dcca-42c7-9be6-a07134f90eb4",
   "metadata": {},
   "outputs": [],
   "source": []
  }
 ],
 "metadata": {
  "kernelspec": {
   "display_name": "venv",
   "language": "python",
   "name": "venv"
  },
  "language_info": {
   "codemirror_mode": {
    "name": "ipython",
    "version": 3
   },
   "file_extension": ".py",
   "mimetype": "text/x-python",
   "name": "python",
   "nbconvert_exporter": "python",
   "pygments_lexer": "ipython3",
   "version": "3.12.4"
  }
 },
 "nbformat": 4,
 "nbformat_minor": 5
}
