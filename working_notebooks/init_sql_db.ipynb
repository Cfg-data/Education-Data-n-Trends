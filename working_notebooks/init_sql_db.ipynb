{
 "cells": [
  {
   "cell_type": "code",
   "execution_count": 2,
   "id": "d7732309-3073-471a-9a23-5570dbb5b2de",
   "metadata": {},
   "outputs": [],
   "source": [
    "import pandas as pd\n",
    "import mysql.connector"
   ]
  },
  {
   "cell_type": "code",
   "execution_count": null,
   "id": "affc9dce-484e-4a42-9ea0-ca512341e5cc",
   "metadata": {},
   "outputs": [],
   "source": [
    "# Define the URLs for the four dataframes\n",
    "urls = [\n",
    "    \"https://raw.githubusercontent.com/Cfg-data/final-project/refs/heads/master/data/cleaned/cleaned_SYB67_245_202411.csv\",\n",
    "    \"https://raw.githubusercontent.com/Cfg-data/final-project/refs/heads/master/data/cleaned/cleaned_SYB67_309_202411.csv\",\n",
    "    \"https://raw.githubusercontent.com/Cfg-data/final-project/refs/heads/master/data/cleaned/cleaned_SYB67_319_202411.csv\",\n",
    "    \"https://raw.githubusercontent.com/Cfg-data/final-project/refs/heads/master/data/cleaned/cleaned_SYB67_323_202411.csv\"\n",
    "]\n",
    "\n",
    "# Load each CSV into its respective dataframe\n",
    "df1 = pd.read_csv(urls[0])\n",
    "df2 = pd.read_csv(urls[1])\n",
    "df3 = pd.read_csv(urls[2])\n",
    "df4 = pd.read_csv(urls[3])\n",
    "\n",
    "# Establish a connection to MySQL\n",
    "connection = mysql.connector.connect(\n",
    "    host=\"localhost\",       # e.g., 'localhost'\n",
    "    user=\"Cecilia\",   # your MySQL username\n",
    "    password=\"933333333Brinh1ld6\",  # your MySQL password\n",
    "    database=\"UNDATA_education_db\"\n",
    ")"
   ]
  },
  {
   "cell_type": "code",
   "execution_count": null,
   "id": "082451dc-6744-4bd3-9701-91083cbed624",
   "metadata": {},
   "outputs": [],
   "source": [
    "def upload_to_mysql(df, table_name, connection):\n",
    "    cursor = connection.cursor()\n",
    "\n",
    "    # Prepare the insert statement\n",
    "    cols = \", \".join(df.columns)\n",
    "    values = \", \".join([\"%s\"] * len(df.columns))\n",
    "    insert_stmt = f\"INSERT INTO {table_name} ({cols}) VALUES ({values})\"\n",
    "\n",
    "    # Convert DataFrame to a list of tuples for insertion\n",
    "    data = [tuple(row) for row in df.values]\n",
    "\n",
    "    try:\n",
    "        # Execute the insert statement\n",
    "        cursor.executemany(insert_stmt, data)\n",
    "        connection.commit()\n",
    "        print(f\"Data from {table_name} uploaded successfully.\")\n",
    "    except Exception as e:\n",
    "        print(f\"Error uploading data: {e}\")\n",
    "        connection.rollback()\n",
    "\n",
    "# Upload data from each dataframe\n",
    "upload_to_mysql(df1, 'table_1', connection)\n",
    "upload_to_mysql(df2, 'table_2', connection)\n",
    "upload_to_mysql(df3, 'table_3', connection)\n",
    "upload_to_mysql(df4, 'table_4', connection)\n",
    "\n",
    "# Close the database connection\n",
    "connection.close()"
   ]
  },
  {
   "cell_type": "code",
   "execution_count": null,
   "id": "f5cd4199-83b1-4210-ac58-0ea3169ffe09",
   "metadata": {},
   "outputs": [],
   "source": []
  }
 ],
 "metadata": {
  "kernelspec": {
   "display_name": "venv",
   "language": "python",
   "name": "venv"
  },
  "language_info": {
   "codemirror_mode": {
    "name": "ipython",
    "version": 3
   },
   "file_extension": ".py",
   "mimetype": "text/x-python",
   "name": "python",
   "nbconvert_exporter": "python",
   "pygments_lexer": "ipython3",
   "version": "3.12.4"
  }
 },
 "nbformat": 4,
 "nbformat_minor": 5
}
